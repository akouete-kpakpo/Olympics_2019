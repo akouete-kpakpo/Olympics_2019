{
 "cells": [
  {
   "cell_type": "code",
   "execution_count": 1,
   "metadata": {},
   "outputs": [],
   "source": [
    "%matplotlib inline\n",
    "\n",
    "import numpy as np\n",
    "import pandas as pd\n",
    "\n",
    "from sklearn.linear_model import LogisticRegression\n",
    "from sklearn.metrics import log_loss\n",
    "from sklearn.model_selection import train_test_split"
   ]
  },
  {
   "cell_type": "code",
   "execution_count": 2,
   "metadata": {},
   "outputs": [],
   "source": [
    "# Define the competition scorer\n",
    "def competition_scorer(y_true, y_pred):\n",
    "    return log_loss(y_true, y_pred, sample_weight=10**y_true)"
   ]
  },
  {
   "cell_type": "markdown",
   "metadata": {},
   "source": [
    "# 1- Information about the challenge\n",
    "\n",
    "In this challenge, the `requests` dataset contains information about the requests made by group of individuals (or family) to the french emergency housing public service. A sample of the `requests` dataset corresponds to a unique request.\n",
    "\n",
    "The goal is to predict the categorical variable `granted_number_of_nights` which represents the number of nights of emergency housing granted to a group. You can train your model on the `train_requests`, the predictions should be made for requests listed in the `test_requests` dataset.\n",
    "\n",
    "The evaluation metric is given by the `competition_scorer` defined above. It corresponds to a weighted log-loss with weights 1, 10, 100, or 1000 if the `granted_number_of_nights` takes the value 0, 1, 2, or 3 respectively. Thus beware that you will be penalized harder for classification mistakes made on the higher labels.\n",
    "\n",
    "Good luck!"
   ]
  },
  {
   "cell_type": "markdown",
   "metadata": {},
   "source": [
    "# 2- Load the datasets"
   ]
  },
  {
   "cell_type": "code",
   "execution_count": 3,
   "metadata": {},
   "outputs": [
    {
     "name": "stderr",
     "output_type": "stream",
     "text": [
      "b'Skipping line 31303: expected 24 fields, saw 49\\nSkipping line 75954: expected 24 fields, saw 49\\n'\n"
     ]
    }
   ],
   "source": [
    "# Train sample\n",
    "requests_train = pd.read_csv('data/train_requests.csv', sep=',', low_memory=False, error_bad_lines=False)\n",
    "\n",
    "# Test sample\n",
    "requests_test = pd.read_csv('data/test_requests.csv', sep=',', low_memory=False, error_bad_lines=False)"
   ]
  },
  {
   "cell_type": "code",
   "execution_count": 4,
   "metadata": {},
   "outputs": [],
   "source": [
    "individuals_train = pd.read_csv('data/train_individuals.csv', sep=',', low_memory=False, error_bad_lines=False)\n",
    "individuals_test = pd.read_csv('data/test_individuals.csv', sep=',', low_memory=False, error_bad_lines=False)"
   ]
  },
  {
   "cell_type": "code",
   "execution_count": 48,
   "metadata": {},
   "outputs": [
    {
     "data": {
      "text/html": [
       "<div>\n",
       "<style scoped>\n",
       "    .dataframe tbody tr th:only-of-type {\n",
       "        vertical-align: middle;\n",
       "    }\n",
       "\n",
       "    .dataframe tbody tr th {\n",
       "        vertical-align: top;\n",
       "    }\n",
       "\n",
       "    .dataframe thead th {\n",
       "        text-align: right;\n",
       "    }\n",
       "</style>\n",
       "<table border=\"1\" class=\"dataframe\">\n",
       "  <thead>\n",
       "    <tr style=\"text-align: right;\">\n",
       "      <th></th>\n",
       "      <th>request_id</th>\n",
       "      <th>animal_presence</th>\n",
       "      <th>answer_creation_date</th>\n",
       "      <th>child_situation</th>\n",
       "      <th>child_to_come</th>\n",
       "      <th>district</th>\n",
       "      <th>granted_number_of_nights</th>\n",
       "      <th>group_composition_id</th>\n",
       "      <th>group_composition_label</th>\n",
       "      <th>group_creation_date</th>\n",
       "      <th>...</th>\n",
       "      <th>housing_situation_label</th>\n",
       "      <th>long_term_housing_request</th>\n",
       "      <th>number_of_underage</th>\n",
       "      <th>request_backoffice_creator_id</th>\n",
       "      <th>request_creation_date</th>\n",
       "      <th>requester_type</th>\n",
       "      <th>social_situation_id</th>\n",
       "      <th>town</th>\n",
       "      <th>victim_of_violence</th>\n",
       "      <th>victim_of_violence_type</th>\n",
       "    </tr>\n",
       "  </thead>\n",
       "  <tbody>\n",
       "    <tr>\n",
       "      <th>0</th>\n",
       "      <td>130667d2964de43c511d0ead7ac66b33</td>\n",
       "      <td>f</td>\n",
       "      <td>2019-02-11 22:30:00</td>\n",
       "      <td>-1</td>\n",
       "      <td>NaN</td>\n",
       "      <td>85</td>\n",
       "      <td>1</td>\n",
       "      <td>10</td>\n",
       "      <td>man alone</td>\n",
       "      <td>2018-05-03 12:10:40.416</td>\n",
       "      <td>...</td>\n",
       "      <td>other</td>\n",
       "      <td>NaN</td>\n",
       "      <td>-1</td>\n",
       "      <td>eecd6110b7e9157e6423428b22a28159</td>\n",
       "      <td>2019-02-11 22:30:00</td>\n",
       "      <td>third party</td>\n",
       "      <td>9a84febc47fedaf2c81d7c755e9edc85</td>\n",
       "      <td>NaN</td>\n",
       "      <td>f</td>\n",
       "      <td>NaN</td>\n",
       "    </tr>\n",
       "    <tr>\n",
       "      <th>1</th>\n",
       "      <td>b1cd62fcf24eebb0f685d5eaf55317a8</td>\n",
       "      <td>f</td>\n",
       "      <td>2019-02-12 09:00:00</td>\n",
       "      <td>-1</td>\n",
       "      <td>NaN</td>\n",
       "      <td>85</td>\n",
       "      <td>1</td>\n",
       "      <td>10</td>\n",
       "      <td>man alone</td>\n",
       "      <td>2019-03-07 12:11:08.545</td>\n",
       "      <td>...</td>\n",
       "      <td>other</td>\n",
       "      <td>NaN</td>\n",
       "      <td>-1</td>\n",
       "      <td>eecd6110b7e9157e6423428b22a28159</td>\n",
       "      <td>2019-02-12 09:00:00</td>\n",
       "      <td>user</td>\n",
       "      <td>11f64f0547e855c5c59329b9edc63063</td>\n",
       "      <td>NaN</td>\n",
       "      <td>f</td>\n",
       "      <td>NaN</td>\n",
       "    </tr>\n",
       "    <tr>\n",
       "      <th>2</th>\n",
       "      <td>12cc0a18890bd4959fe42df3ae58838e</td>\n",
       "      <td>f</td>\n",
       "      <td>2019-02-01 21:00:00</td>\n",
       "      <td>-1</td>\n",
       "      <td>NaN</td>\n",
       "      <td>59</td>\n",
       "      <td>1</td>\n",
       "      <td>80</td>\n",
       "      <td>isolated child/underage</td>\n",
       "      <td>2019-03-13 12:54:15.887</td>\n",
       "      <td>...</td>\n",
       "      <td>street</td>\n",
       "      <td>NaN</td>\n",
       "      <td>-1</td>\n",
       "      <td>686d962128c7622aa79ed91da13f5c77</td>\n",
       "      <td>2019-02-01 21:00:00</td>\n",
       "      <td>user</td>\n",
       "      <td>898ab2883f410f4c6fb042ef16329fbb</td>\n",
       "      <td>NaN</td>\n",
       "      <td>f</td>\n",
       "      <td>NaN</td>\n",
       "    </tr>\n",
       "    <tr>\n",
       "      <th>3</th>\n",
       "      <td>ae2d5b4dc181d29e430132f145da1556</td>\n",
       "      <td>f</td>\n",
       "      <td>2019-02-25 15:12:05.037</td>\n",
       "      <td>-1</td>\n",
       "      <td>NaN</td>\n",
       "      <td>50</td>\n",
       "      <td>2</td>\n",
       "      <td>20</td>\n",
       "      <td>woman alone</td>\n",
       "      <td>2018-10-09 14:37:29.773</td>\n",
       "      <td>...</td>\n",
       "      <td>NaN</td>\n",
       "      <td>NaN</td>\n",
       "      <td>-1</td>\n",
       "      <td>ec29519464c381a6630f4e480a0c000e</td>\n",
       "      <td>2019-02-25 15:12:05.037</td>\n",
       "      <td>user</td>\n",
       "      <td>3998c8e890ddc980527dd1af45dfa672</td>\n",
       "      <td>NaN</td>\n",
       "      <td>t</td>\n",
       "      <td>woman</td>\n",
       "    </tr>\n",
       "    <tr>\n",
       "      <th>4</th>\n",
       "      <td>d13a17ce36c832514fda2464e11c4a9f</td>\n",
       "      <td>f</td>\n",
       "      <td>2019-02-20 09:59:20.603</td>\n",
       "      <td>-1</td>\n",
       "      <td>NaN</td>\n",
       "      <td>93</td>\n",
       "      <td>2</td>\n",
       "      <td>60</td>\n",
       "      <td>group with child(ren)</td>\n",
       "      <td>2018-10-02 10:47:36.931</td>\n",
       "      <td>...</td>\n",
       "      <td>hotel paid by the emergency centre</td>\n",
       "      <td>NaN</td>\n",
       "      <td>-1</td>\n",
       "      <td>c8b5cc926b1d7212224a08baa9619518</td>\n",
       "      <td>2019-02-20 09:59:20.603</td>\n",
       "      <td>user</td>\n",
       "      <td>74a10d96eae43586bc3c46e89719b821</td>\n",
       "      <td>NaN</td>\n",
       "      <td>f</td>\n",
       "      <td>NaN</td>\n",
       "    </tr>\n",
       "  </tbody>\n",
       "</table>\n",
       "<p>5 rows × 24 columns</p>\n",
       "</div>"
      ],
      "text/plain": [
       "                         request_id animal_presence     answer_creation_date  \\\n",
       "0  130667d2964de43c511d0ead7ac66b33               f      2019-02-11 22:30:00   \n",
       "1  b1cd62fcf24eebb0f685d5eaf55317a8               f      2019-02-12 09:00:00   \n",
       "2  12cc0a18890bd4959fe42df3ae58838e               f      2019-02-01 21:00:00   \n",
       "3  ae2d5b4dc181d29e430132f145da1556               f  2019-02-25 15:12:05.037   \n",
       "4  d13a17ce36c832514fda2464e11c4a9f               f  2019-02-20 09:59:20.603   \n",
       "\n",
       "   child_situation child_to_come  district  granted_number_of_nights  \\\n",
       "0               -1           NaN        85                         1   \n",
       "1               -1           NaN        85                         1   \n",
       "2               -1           NaN        59                         1   \n",
       "3               -1           NaN        50                         2   \n",
       "4               -1           NaN        93                         2   \n",
       "\n",
       "   group_composition_id  group_composition_label      group_creation_date  \\\n",
       "0                    10                man alone  2018-05-03 12:10:40.416   \n",
       "1                    10                man alone  2019-03-07 12:11:08.545   \n",
       "2                    80  isolated child/underage  2019-03-13 12:54:15.887   \n",
       "3                    20              woman alone  2018-10-09 14:37:29.773   \n",
       "4                    60    group with child(ren)  2018-10-02 10:47:36.931   \n",
       "\n",
       "            ...                       housing_situation_label  \\\n",
       "0           ...                                         other   \n",
       "1           ...                                         other   \n",
       "2           ...                                        street   \n",
       "3           ...                                           NaN   \n",
       "4           ...            hotel paid by the emergency centre   \n",
       "\n",
       "  long_term_housing_request number_of_underage  \\\n",
       "0                       NaN                 -1   \n",
       "1                       NaN                 -1   \n",
       "2                       NaN                 -1   \n",
       "3                       NaN                 -1   \n",
       "4                       NaN                 -1   \n",
       "\n",
       "      request_backoffice_creator_id    request_creation_date requester_type  \\\n",
       "0  eecd6110b7e9157e6423428b22a28159      2019-02-11 22:30:00    third party   \n",
       "1  eecd6110b7e9157e6423428b22a28159      2019-02-12 09:00:00           user   \n",
       "2  686d962128c7622aa79ed91da13f5c77      2019-02-01 21:00:00           user   \n",
       "3  ec29519464c381a6630f4e480a0c000e  2019-02-25 15:12:05.037           user   \n",
       "4  c8b5cc926b1d7212224a08baa9619518  2019-02-20 09:59:20.603           user   \n",
       "\n",
       "                social_situation_id town victim_of_violence  \\\n",
       "0  9a84febc47fedaf2c81d7c755e9edc85  NaN                  f   \n",
       "1  11f64f0547e855c5c59329b9edc63063  NaN                  f   \n",
       "2  898ab2883f410f4c6fb042ef16329fbb  NaN                  f   \n",
       "3  3998c8e890ddc980527dd1af45dfa672  NaN                  t   \n",
       "4  74a10d96eae43586bc3c46e89719b821  NaN                  f   \n",
       "\n",
       "  victim_of_violence_type  \n",
       "0                     NaN  \n",
       "1                     NaN  \n",
       "2                     NaN  \n",
       "3                   woman  \n",
       "4                     NaN  \n",
       "\n",
       "[5 rows x 24 columns]"
      ]
     },
     "execution_count": 48,
     "metadata": {},
     "output_type": "execute_result"
    }
   ],
   "source": [
    "requests_train.head()"
   ]
  },
  {
   "cell_type": "code",
   "execution_count": 17,
   "metadata": {},
   "outputs": [
    {
     "data": {
      "text/html": [
       "<div>\n",
       "<style scoped>\n",
       "    .dataframe tbody tr th:only-of-type {\n",
       "        vertical-align: middle;\n",
       "    }\n",
       "\n",
       "    .dataframe tbody tr th {\n",
       "        vertical-align: top;\n",
       "    }\n",
       "\n",
       "    .dataframe thead th {\n",
       "        text-align: right;\n",
       "    }\n",
       "</style>\n",
       "<table border=\"1\" class=\"dataframe\">\n",
       "  <thead>\n",
       "    <tr style=\"text-align: right;\">\n",
       "      <th></th>\n",
       "      <th>request_id</th>\n",
       "      <th>individual_id</th>\n",
       "      <th>housing_situation_2_id</th>\n",
       "      <th>housing_situation_2_label</th>\n",
       "      <th>birth_month</th>\n",
       "      <th>birth_year</th>\n",
       "      <th>childcare_center_supervision</th>\n",
       "      <th>disabled_worker_certification</th>\n",
       "      <th>gender</th>\n",
       "      <th>individual_creation_date</th>\n",
       "      <th>individual_role</th>\n",
       "      <th>individual_role_2_id</th>\n",
       "      <th>individual_role_2_label</th>\n",
       "      <th>marital_status_id</th>\n",
       "      <th>marital_status_label</th>\n",
       "      <th>pregnancy</th>\n",
       "    </tr>\n",
       "  </thead>\n",
       "  <tbody>\n",
       "    <tr>\n",
       "      <th>0</th>\n",
       "      <td>130667d2964de43c511d0ead7ac66b33</td>\n",
       "      <td>b24a8cfaaf3663bac45ca3bcd24f0b36</td>\n",
       "      <td>20</td>\n",
       "      <td>on the street</td>\n",
       "      <td>5</td>\n",
       "      <td>1977</td>\n",
       "      <td>NaN</td>\n",
       "      <td>NaN</td>\n",
       "      <td>male</td>\n",
       "      <td>2018-01-29</td>\n",
       "      <td>isolated person</td>\n",
       "      <td>30</td>\n",
       "      <td>isolated adult</td>\n",
       "      <td>10</td>\n",
       "      <td>single person</td>\n",
       "      <td>f</td>\n",
       "    </tr>\n",
       "    <tr>\n",
       "      <th>1</th>\n",
       "      <td>b1cd62fcf24eebb0f685d5eaf55317a8</td>\n",
       "      <td>eef783d1bda82661a751c12c34aff8c2</td>\n",
       "      <td>20</td>\n",
       "      <td>on the street</td>\n",
       "      <td>5</td>\n",
       "      <td>1980</td>\n",
       "      <td>NaN</td>\n",
       "      <td>NaN</td>\n",
       "      <td>male</td>\n",
       "      <td>2019-03-07</td>\n",
       "      <td>NaN</td>\n",
       "      <td>30</td>\n",
       "      <td>isolated adult</td>\n",
       "      <td>-1</td>\n",
       "      <td>NaN</td>\n",
       "      <td>f</td>\n",
       "    </tr>\n",
       "    <tr>\n",
       "      <th>2</th>\n",
       "      <td>12cc0a18890bd4959fe42df3ae58838e</td>\n",
       "      <td>927b6fa58d6be263c411332835b11fec</td>\n",
       "      <td>20</td>\n",
       "      <td>on the street</td>\n",
       "      <td>1</td>\n",
       "      <td>2003</td>\n",
       "      <td>NaN</td>\n",
       "      <td>NaN</td>\n",
       "      <td>male</td>\n",
       "      <td>2019-03-13</td>\n",
       "      <td>NaN</td>\n",
       "      <td>10</td>\n",
       "      <td>isolated underage/child</td>\n",
       "      <td>-1</td>\n",
       "      <td>NaN</td>\n",
       "      <td>f</td>\n",
       "    </tr>\n",
       "    <tr>\n",
       "      <th>3</th>\n",
       "      <td>ae2d5b4dc181d29e430132f145da1556</td>\n",
       "      <td>94181d5cf4a56cc84d12677df84e2e03</td>\n",
       "      <td>20</td>\n",
       "      <td>on the street</td>\n",
       "      <td>7</td>\n",
       "      <td>1986</td>\n",
       "      <td>NaN</td>\n",
       "      <td>NaN</td>\n",
       "      <td>female</td>\n",
       "      <td>2018-10-09</td>\n",
       "      <td>NaN</td>\n",
       "      <td>30</td>\n",
       "      <td>isolated adult</td>\n",
       "      <td>-1</td>\n",
       "      <td>NaN</td>\n",
       "      <td>f</td>\n",
       "    </tr>\n",
       "    <tr>\n",
       "      <th>4</th>\n",
       "      <td>d13a17ce36c832514fda2464e11c4a9f</td>\n",
       "      <td>e79d2e3f9ace50049f1796c098008c13</td>\n",
       "      <td>35</td>\n",
       "      <td>hotel paid by the emergency structure</td>\n",
       "      <td>9</td>\n",
       "      <td>1980</td>\n",
       "      <td>NaN</td>\n",
       "      <td>NaN</td>\n",
       "      <td>female</td>\n",
       "      <td>2017-06-22</td>\n",
       "      <td>husband/spouse</td>\n",
       "      <td>1</td>\n",
       "      <td>partner</td>\n",
       "      <td>-1</td>\n",
       "      <td>NaN</td>\n",
       "      <td>f</td>\n",
       "    </tr>\n",
       "  </tbody>\n",
       "</table>\n",
       "</div>"
      ],
      "text/plain": [
       "                         request_id                     individual_id  \\\n",
       "0  130667d2964de43c511d0ead7ac66b33  b24a8cfaaf3663bac45ca3bcd24f0b36   \n",
       "1  b1cd62fcf24eebb0f685d5eaf55317a8  eef783d1bda82661a751c12c34aff8c2   \n",
       "2  12cc0a18890bd4959fe42df3ae58838e  927b6fa58d6be263c411332835b11fec   \n",
       "3  ae2d5b4dc181d29e430132f145da1556  94181d5cf4a56cc84d12677df84e2e03   \n",
       "4  d13a17ce36c832514fda2464e11c4a9f  e79d2e3f9ace50049f1796c098008c13   \n",
       "\n",
       "   housing_situation_2_id              housing_situation_2_label  birth_month  \\\n",
       "0                      20                          on the street            5   \n",
       "1                      20                          on the street            5   \n",
       "2                      20                          on the street            1   \n",
       "3                      20                          on the street            7   \n",
       "4                      35  hotel paid by the emergency structure            9   \n",
       "\n",
       "   birth_year childcare_center_supervision disabled_worker_certification  \\\n",
       "0        1977                          NaN                           NaN   \n",
       "1        1980                          NaN                           NaN   \n",
       "2        2003                          NaN                           NaN   \n",
       "3        1986                          NaN                           NaN   \n",
       "4        1980                          NaN                           NaN   \n",
       "\n",
       "   gender individual_creation_date  individual_role  individual_role_2_id  \\\n",
       "0    male               2018-01-29  isolated person                    30   \n",
       "1    male               2019-03-07              NaN                    30   \n",
       "2    male               2019-03-13              NaN                    10   \n",
       "3  female               2018-10-09              NaN                    30   \n",
       "4  female               2017-06-22   husband/spouse                     1   \n",
       "\n",
       "   individual_role_2_label  marital_status_id marital_status_label pregnancy  \n",
       "0           isolated adult                 10        single person         f  \n",
       "1           isolated adult                 -1                  NaN         f  \n",
       "2  isolated underage/child                 -1                  NaN         f  \n",
       "3           isolated adult                 -1                  NaN         f  \n",
       "4                  partner                 -1                  NaN         f  "
      ]
     },
     "execution_count": 17,
     "metadata": {},
     "output_type": "execute_result"
    }
   ],
   "source": [
    "individuals_train.head()"
   ]
  },
  {
   "cell_type": "code",
   "execution_count": 19,
   "metadata": {},
   "outputs": [
    {
     "data": {
      "text/plain": [
       "91235"
      ]
     },
     "execution_count": 19,
     "metadata": {},
     "output_type": "execute_result"
    }
   ],
   "source": [
    "len(individuals_train.loc[:,'individual_id'].unique())"
   ]
  },
  {
   "cell_type": "code",
   "execution_count": null,
   "metadata": {},
   "outputs": [],
   "source": []
  },
  {
   "cell_type": "code",
   "execution_count": 58,
   "metadata": {},
   "outputs": [
    {
     "ename": "NameError",
     "evalue": "name 'train_test' is not defined",
     "output_type": "error",
     "traceback": [
      "\u001b[1;31m---------------------------------------------------------------------------\u001b[0m",
      "\u001b[1;31mNameError\u001b[0m                                 Traceback (most recent call last)",
      "\u001b[1;32m<ipython-input-58-db9b82f482e6>\u001b[0m in \u001b[0;36m<module>\u001b[1;34m()\u001b[0m\n\u001b[1;32m----> 1\u001b[1;33m \u001b[0mfinal\u001b[0m \u001b[1;33m=\u001b[0m \u001b[0mtrain_test\u001b[0m\u001b[1;33m.\u001b[0m\u001b[0mmerge\u001b[0m\u001b[1;33m(\u001b[0m\u001b[0mtrain_test_bis\u001b[0m\u001b[1;33m,\u001b[0m\u001b[0mhow\u001b[0m\u001b[1;33m=\u001b[0m\u001b[1;34m'left'\u001b[0m \u001b[1;33m,\u001b[0m \u001b[0mleft_on\u001b[0m\u001b[1;33m=\u001b[0m\u001b[1;34m'request_id'\u001b[0m\u001b[1;33m,\u001b[0m \u001b[0mright_on\u001b[0m\u001b[1;33m=\u001b[0m\u001b[1;34m'request_id'\u001b[0m\u001b[1;33m)\u001b[0m\u001b[1;33m\u001b[0m\u001b[0m\n\u001b[0m\u001b[0;32m      2\u001b[0m \u001b[0mX_test_final\u001b[0m \u001b[1;33m=\u001b[0m \u001b[0mtrain_test\u001b[0m\u001b[1;33m.\u001b[0m\u001b[0mmerge\u001b[0m\u001b[1;33m(\u001b[0m\u001b[0mtrain_test_bis\u001b[0m\u001b[1;33m,\u001b[0m \u001b[0mleft_on\u001b[0m\u001b[1;33m=\u001b[0m\u001b[1;34m'request_id'\u001b[0m\u001b[1;33m,\u001b[0m \u001b[0mright_on\u001b[0m\u001b[1;33m=\u001b[0m\u001b[1;34m'request_id'\u001b[0m\u001b[1;33m)\u001b[0m\u001b[1;33m\u001b[0m\u001b[0m\n",
      "\u001b[1;31mNameError\u001b[0m: name 'train_test' is not defined"
     ]
    }
   ],
   "source": [
    "final = train_test.merge(train_test_bis,how='left' , on='request_id')\n",
    "X_test_final = train_test.merge(train_test_bis, left_on='request_id', right_on='request_id')"
   ]
  },
  {
   "cell_type": "code",
   "execution_count": 59,
   "metadata": {},
   "outputs": [
    {
     "data": {
      "text/plain": [
       "(599043, 29)"
      ]
     },
     "execution_count": 59,
     "metadata": {},
     "output_type": "execute_result"
    }
   ],
   "source": [
    "final.shape"
   ]
  },
  {
   "cell_type": "code",
   "execution_count": 54,
   "metadata": {},
   "outputs": [
    {
     "name": "stderr",
     "output_type": "stream",
     "text": [
      "C:\\Users\\kkpakpo\\AppData\\Local\\Continuum\\anaconda3\\lib\\site-packages\\ipykernel_launcher.py:2: FutureWarning: Sorting because non-concatenation axis is not aligned. A future version\n",
      "of pandas will change to not sort by default.\n",
      "\n",
      "To accept the future behavior, pass 'sort=False'.\n",
      "\n",
      "To retain the current behavior and silence the warning, pass 'sort=True'.\n",
      "\n",
      "  \n"
     ]
    }
   ],
   "source": [
    "ntrain=len(requests_train)\n",
    "requests = pd.concat((requests_train, requests_test), axis=0)\n",
    "requests=requests.reset_index(drop=True)"
   ]
  },
  {
   "cell_type": "code",
   "execution_count": 57,
   "metadata": {},
   "outputs": [
    {
     "data": {
      "text/plain": [
       "((371928, 24), (297739, 24), (74189, 23))"
      ]
     },
     "execution_count": 57,
     "metadata": {},
     "output_type": "execute_result"
    }
   ],
   "source": [
    "requests.shape, requests_train.shape, requests_test.shape"
   ]
  },
  {
   "cell_type": "code",
   "execution_count": 6,
   "metadata": {},
   "outputs": [],
   "source": [
    "ntrain_bis=len(individuals_train)\n",
    "individuals = pd.concat((individuals_train, individuals_test), axis=0)\n",
    "individuals=individuals.reset_index(drop=True)"
   ]
  },
  {
   "cell_type": "code",
   "execution_count": 65,
   "metadata": {},
   "outputs": [],
   "source": [
    "final = requests.merge(individuals.loc[:,['request_id', 'pregnancy', 'childcare_center_supervision', \n",
    "                                          'disabled_worker_certification', 'gender', 'marital_status_id']].drop_duplicates(keep='first'),  \n",
    "                       on='request_id')"
   ]
  },
  {
   "cell_type": "code",
   "execution_count": 67,
   "metadata": {},
   "outputs": [
    {
     "data": {
      "text/plain": [
       "(535471, 29)"
      ]
     },
     "execution_count": 67,
     "metadata": {},
     "output_type": "execute_result"
    }
   ],
   "source": [
    "final.shape"
   ]
  },
  {
   "cell_type": "code",
   "execution_count": 4,
   "metadata": {},
   "outputs": [
    {
     "name": "stdout",
     "output_type": "stream",
     "text": [
      "<class 'pandas.core.frame.DataFrame'>\n",
      "RangeIndex: 297739 entries, 0 to 297738\n",
      "Data columns (total 24 columns):\n",
      "request_id                       297739 non-null object\n",
      "animal_presence                  297739 non-null object\n",
      "answer_creation_date             297739 non-null object\n",
      "child_situation                  297739 non-null int64\n",
      "child_to_come                    115453 non-null object\n",
      "district                         297739 non-null int64\n",
      "granted_number_of_nights         297739 non-null int64\n",
      "group_composition_id             297739 non-null int64\n",
      "group_composition_label          297738 non-null object\n",
      "group_creation_date              297738 non-null object\n",
      "group_id                         297739 non-null object\n",
      "group_main_requester_id          297739 non-null object\n",
      "group_type                       297738 non-null object\n",
      "housing_situation_id             297739 non-null int64\n",
      "housing_situation_label          276802 non-null object\n",
      "long_term_housing_request        90926 non-null object\n",
      "number_of_underage               297739 non-null int64\n",
      "request_backoffice_creator_id    297739 non-null object\n",
      "request_creation_date            297739 non-null object\n",
      "requester_type                   297739 non-null object\n",
      "social_situation_id              297739 non-null object\n",
      "town                             98051 non-null object\n",
      "victim_of_violence               297738 non-null object\n",
      "victim_of_violence_type          4984 non-null object\n",
      "dtypes: int64(6), object(18)\n",
      "memory usage: 54.5+ MB\n"
     ]
    }
   ],
   "source": [
    "# Inspect basic metadata about the dataset\n",
    "requests_train.info()"
   ]
  },
  {
   "cell_type": "code",
   "execution_count": 105,
   "metadata": {},
   "outputs": [
    {
     "data": {
      "text/plain": [
       "7"
      ]
     },
     "execution_count": 105,
     "metadata": {},
     "output_type": "execute_result"
    }
   ],
   "source": [
    "len(requests_train.loc[:,'victim_of_violence_type'].unique())"
   ]
  },
  {
   "cell_type": "code",
   "execution_count": 106,
   "metadata": {},
   "outputs": [
    {
     "data": {
      "text/plain": [
       "count      4984\n",
       "unique        6\n",
       "top       woman\n",
       "freq       2700\n",
       "Name: victim_of_violence_type, dtype: object"
      ]
     },
     "execution_count": 106,
     "metadata": {},
     "output_type": "execute_result"
    }
   ],
   "source": [
    "requests_train.loc[:,'victim_of_violence_type'].describe()"
   ]
  },
  {
   "cell_type": "code",
   "execution_count": 107,
   "metadata": {},
   "outputs": [
    {
     "data": {
      "text/plain": [
       "{'child',\n",
       " 'family',\n",
       " 'man',\n",
       " 'man victim of domestic violence',\n",
       " nan,\n",
       " 'woman',\n",
       " 'woman victim of domestic violence'}"
      ]
     },
     "execution_count": 107,
     "metadata": {},
     "output_type": "execute_result"
    }
   ],
   "source": [
    "set(requests_train.loc[:,'victim_of_violence_type'])"
   ]
  },
  {
   "cell_type": "markdown",
   "metadata": {},
   "source": [
    "# 3- Distribution of the target"
   ]
  },
  {
   "cell_type": "code",
   "execution_count": 5,
   "metadata": {},
   "outputs": [
    {
     "data": {
      "image/png": "[encoded data removed]",
      "text/plain": [
       "<Figure size 432x288 with 1 Axes>"
      ]
     },
     "metadata": {
      "needs_background": "light"
     },
     "output_type": "display_data"
    }
   ],
   "source": [
    "# histogram of the target variable\n",
    "requests_train['granted_number_of_nights'].plot.hist()\n",
    "None"
   ]
  },
  {
   "cell_type": "markdown",
   "metadata": {},
   "source": [
    "# 4-Train and evaluate a first model"
   ]
  },
  {
   "cell_type": "code",
   "execution_count": 39,
   "metadata": {},
   "outputs": [
    {
     "ename": "KeyError",
     "evalue": "\"None of [['district', 'housing_situation_id', 'group_composition_id']] are in the [columns]\"",
     "output_type": "error",
     "traceback": [
      "\u001b[1;31m---------------------------------------------------------------------------\u001b[0m",
      "\u001b[1;31mKeyError\u001b[0m                                  Traceback (most recent call last)",
      "\u001b[1;32m<ipython-input-39-382dbf631f89>\u001b[0m in \u001b[0;36m<module>\u001b[1;34m()\u001b[0m\n\u001b[0;32m      4\u001b[0m            'group_composition_id']\n\u001b[0;32m      5\u001b[0m \u001b[1;33m\u001b[0m\u001b[0m\n\u001b[1;32m----> 6\u001b[1;33m \u001b[0mX\u001b[0m \u001b[1;33m=\u001b[0m \u001b[0mfinal\u001b[0m\u001b[1;33m.\u001b[0m\u001b[0mloc\u001b[0m\u001b[1;33m[\u001b[0m\u001b[1;33m:\u001b[0m\u001b[0mntrain\u001b[0m\u001b[1;33m,\u001b[0m \u001b[0mcolumns\u001b[0m\u001b[1;33m]\u001b[0m\u001b[1;33m\u001b[0m\u001b[0m\n\u001b[0m\u001b[0;32m      7\u001b[0m \u001b[0my\u001b[0m \u001b[1;33m=\u001b[0m \u001b[0mfinal\u001b[0m\u001b[1;33m.\u001b[0m\u001b[0mloc\u001b[0m\u001b[1;33m[\u001b[0m\u001b[0mntrain\u001b[0m\u001b[1;33m:\u001b[0m\u001b[1;33m,\u001b[0m \u001b[1;34m'granted_number_of_nights'\u001b[0m\u001b[1;33m]\u001b[0m\u001b[1;33m\u001b[0m\u001b[0m\n",
      "\u001b[1;32m~\\AppData\\Local\\Continuum\\anaconda3\\lib\\site-packages\\pandas\\core\\indexing.py\u001b[0m in \u001b[0;36m__getitem__\u001b[1;34m(self, key)\u001b[0m\n\u001b[0;32m   1470\u001b[0m             \u001b[1;32mexcept\u001b[0m \u001b[1;33m(\u001b[0m\u001b[0mKeyError\u001b[0m\u001b[1;33m,\u001b[0m \u001b[0mIndexError\u001b[0m\u001b[1;33m)\u001b[0m\u001b[1;33m:\u001b[0m\u001b[1;33m\u001b[0m\u001b[0m\n\u001b[0;32m   1471\u001b[0m                 \u001b[1;32mpass\u001b[0m\u001b[1;33m\u001b[0m\u001b[0m\n\u001b[1;32m-> 1472\u001b[1;33m             \u001b[1;32mreturn\u001b[0m \u001b[0mself\u001b[0m\u001b[1;33m.\u001b[0m\u001b[0m_getitem_tuple\u001b[0m\u001b[1;33m(\u001b[0m\u001b[0mkey\u001b[0m\u001b[1;33m)\u001b[0m\u001b[1;33m\u001b[0m\u001b[0m\n\u001b[0m\u001b[0;32m   1473\u001b[0m         \u001b[1;32melse\u001b[0m\u001b[1;33m:\u001b[0m\u001b[1;33m\u001b[0m\u001b[0m\n\u001b[0;32m   1474\u001b[0m             \u001b[1;31m# we by definition only have the 0th axis\u001b[0m\u001b[1;33m\u001b[0m\u001b[1;33m\u001b[0m\u001b[0m\n",
      "\u001b[1;32m~\\AppData\\Local\\Continuum\\anaconda3\\lib\\site-packages\\pandas\\core\\indexing.py\u001b[0m in \u001b[0;36m_getitem_tuple\u001b[1;34m(self, tup)\u001b[0m\n\u001b[0;32m    888\u001b[0m                 \u001b[1;32mcontinue\u001b[0m\u001b[1;33m\u001b[0m\u001b[0m\n\u001b[0;32m    889\u001b[0m \u001b[1;33m\u001b[0m\u001b[0m\n\u001b[1;32m--> 890\u001b[1;33m             \u001b[0mretval\u001b[0m \u001b[1;33m=\u001b[0m \u001b[0mgetattr\u001b[0m\u001b[1;33m(\u001b[0m\u001b[0mretval\u001b[0m\u001b[1;33m,\u001b[0m \u001b[0mself\u001b[0m\u001b[1;33m.\u001b[0m\u001b[0mname\u001b[0m\u001b[1;33m)\u001b[0m\u001b[1;33m.\u001b[0m\u001b[0m_getitem_axis\u001b[0m\u001b[1;33m(\u001b[0m\u001b[0mkey\u001b[0m\u001b[1;33m,\u001b[0m \u001b[0maxis\u001b[0m\u001b[1;33m=\u001b[0m\u001b[0mi\u001b[0m\u001b[1;33m)\u001b[0m\u001b[1;33m\u001b[0m\u001b[0m\n\u001b[0m\u001b[0;32m    891\u001b[0m \u001b[1;33m\u001b[0m\u001b[0m\n\u001b[0;32m    892\u001b[0m         \u001b[1;32mreturn\u001b[0m \u001b[0mretval\u001b[0m\u001b[1;33m\u001b[0m\u001b[0m\n",
      "\u001b[1;32m~\\AppData\\Local\\Continuum\\anaconda3\\lib\\site-packages\\pandas\\core\\indexing.py\u001b[0m in \u001b[0;36m_getitem_axis\u001b[1;34m(self, key, axis)\u001b[0m\n\u001b[0;32m   1899\u001b[0m                     \u001b[1;32mraise\u001b[0m \u001b[0mValueError\u001b[0m\u001b[1;33m(\u001b[0m\u001b[1;34m'Cannot index with multidimensional key'\u001b[0m\u001b[1;33m)\u001b[0m\u001b[1;33m\u001b[0m\u001b[0m\n\u001b[0;32m   1900\u001b[0m \u001b[1;33m\u001b[0m\u001b[0m\n\u001b[1;32m-> 1901\u001b[1;33m                 \u001b[1;32mreturn\u001b[0m \u001b[0mself\u001b[0m\u001b[1;33m.\u001b[0m\u001b[0m_getitem_iterable\u001b[0m\u001b[1;33m(\u001b[0m\u001b[0mkey\u001b[0m\u001b[1;33m,\u001b[0m \u001b[0maxis\u001b[0m\u001b[1;33m=\u001b[0m\u001b[0maxis\u001b[0m\u001b[1;33m)\u001b[0m\u001b[1;33m\u001b[0m\u001b[0m\n\u001b[0m\u001b[0;32m   1902\u001b[0m \u001b[1;33m\u001b[0m\u001b[0m\n\u001b[0;32m   1903\u001b[0m             \u001b[1;31m# nested tuple slicing\u001b[0m\u001b[1;33m\u001b[0m\u001b[1;33m\u001b[0m\u001b[0m\n",
      "\u001b[1;32m~\\AppData\\Local\\Continuum\\anaconda3\\lib\\site-packages\\pandas\\core\\indexing.py\u001b[0m in \u001b[0;36m_getitem_iterable\u001b[1;34m(self, key, axis)\u001b[0m\n\u001b[0;32m   1141\u001b[0m             \u001b[1;32mif\u001b[0m \u001b[0mlabels\u001b[0m\u001b[1;33m.\u001b[0m\u001b[0mis_unique\u001b[0m \u001b[1;32mand\u001b[0m \u001b[0mIndex\u001b[0m\u001b[1;33m(\u001b[0m\u001b[0mkeyarr\u001b[0m\u001b[1;33m)\u001b[0m\u001b[1;33m.\u001b[0m\u001b[0mis_unique\u001b[0m\u001b[1;33m:\u001b[0m\u001b[1;33m\u001b[0m\u001b[0m\n\u001b[0;32m   1142\u001b[0m                 \u001b[0mindexer\u001b[0m \u001b[1;33m=\u001b[0m \u001b[0max\u001b[0m\u001b[1;33m.\u001b[0m\u001b[0mget_indexer_for\u001b[0m\u001b[1;33m(\u001b[0m\u001b[0mkey\u001b[0m\u001b[1;33m)\u001b[0m\u001b[1;33m\u001b[0m\u001b[0m\n\u001b[1;32m-> 1143\u001b[1;33m                 \u001b[0mself\u001b[0m\u001b[1;33m.\u001b[0m\u001b[0m_validate_read_indexer\u001b[0m\u001b[1;33m(\u001b[0m\u001b[0mkey\u001b[0m\u001b[1;33m,\u001b[0m \u001b[0mindexer\u001b[0m\u001b[1;33m,\u001b[0m \u001b[0maxis\u001b[0m\u001b[1;33m)\u001b[0m\u001b[1;33m\u001b[0m\u001b[0m\n\u001b[0m\u001b[0;32m   1144\u001b[0m \u001b[1;33m\u001b[0m\u001b[0m\n\u001b[0;32m   1145\u001b[0m                 \u001b[0md\u001b[0m \u001b[1;33m=\u001b[0m \u001b[1;33m{\u001b[0m\u001b[0maxis\u001b[0m\u001b[1;33m:\u001b[0m \u001b[1;33m[\u001b[0m\u001b[0max\u001b[0m\u001b[1;33m.\u001b[0m\u001b[0mreindex\u001b[0m\u001b[1;33m(\u001b[0m\u001b[0mkeyarr\u001b[0m\u001b[1;33m)\u001b[0m\u001b[1;33m[\u001b[0m\u001b[1;36m0\u001b[0m\u001b[1;33m]\u001b[0m\u001b[1;33m,\u001b[0m \u001b[0mindexer\u001b[0m\u001b[1;33m]\u001b[0m\u001b[1;33m}\u001b[0m\u001b[1;33m\u001b[0m\u001b[0m\n",
      "\u001b[1;32m~\\AppData\\Local\\Continuum\\anaconda3\\lib\\site-packages\\pandas\\core\\indexing.py\u001b[0m in \u001b[0;36m_validate_read_indexer\u001b[1;34m(self, key, indexer, axis)\u001b[0m\n\u001b[0;32m   1204\u001b[0m                 raise KeyError(\n\u001b[0;32m   1205\u001b[0m                     u\"None of [{key}] are in the [{axis}]\".format(\n\u001b[1;32m-> 1206\u001b[1;33m                         key=key, axis=self.obj._get_axis_name(axis)))\n\u001b[0m\u001b[0;32m   1207\u001b[0m \u001b[1;33m\u001b[0m\u001b[0m\n\u001b[0;32m   1208\u001b[0m             \u001b[1;31m# we skip the warning on Categorical/Interval\u001b[0m\u001b[1;33m\u001b[0m\u001b[1;33m\u001b[0m\u001b[0m\n",
      "\u001b[1;31mKeyError\u001b[0m: \"None of [['district', 'housing_situation_id', 'group_composition_id']] are in the [columns]\""
     ]
    }
   ],
   "source": [
    "# selected columns for explanatory variable\n",
    "columns = ['district',\n",
    "           'housing_situation_id',\n",
    "           'group_composition_id']\n",
    "\n",
    "X = final.loc[:ntrain, columns]\n",
    "y = final.loc[ntrain:, 'granted_number_of_nights']"
   ]
  },
  {
   "cell_type": "code",
   "execution_count": null,
   "metadata": {},
   "outputs": [],
   "source": [
    "requests[columns].head()"
   ]
  },
  {
   "cell_type": "markdown",
   "metadata": {},
   "source": [
    "## 4.1. Feature ingeneering"
   ]
  },
  {
   "cell_type": "code",
   "execution_count": 66,
   "metadata": {},
   "outputs": [],
   "source": [
    "#cat_cols = [col for col in requests_train.columns if requests_train.loc[:,col].dtype == 'O']\n",
    "#num_cols = [col for col in requests_train.columns if requests_train.loc[0,col].dtype == float]\n",
    "# cat_cols_high_freq = []\n",
    "# high freq = >5"
   ]
  },
  {
   "cell_type": "code",
   "execution_count": 8,
   "metadata": {},
   "outputs": [],
   "source": [
    "cat_cols = ['animal_presence','child_to_come', 'group_type', 'long_term_housing_request', 'requester_type', \n",
    "            'victim_of_violence', 'victim_of_violence_type']\n",
    "num_cols =  ['child_situation', 'district']\n",
    "cat_cols_high_freq = ['group_composition_id', 'group_id', 'housing_situation_id', 'number_of_underage', \n",
    "                      'request_backoffice_creator_id', 'social_situation_id', 'town']\n",
    "date_cols = ['answer_creation_date', 'group_creation_date', 'request_creation_date']\n",
    "id_cols = ['group_composition_id']\n",
    "text_cols = ['group_composition_label', 'housing_situation_label']\n",
    "unuseful = ['group_main_requester_id']"
   ]
  },
  {
   "cell_type": "code",
   "execution_count": 6,
   "metadata": {},
   "outputs": [
    {
     "data": {
      "text/plain": [
       "animal_presence                       f\n",
       "child_to_come                         f\n",
       "group_type                   individual\n",
       "long_term_housing_request             t\n",
       "requester_type                     user\n",
       "victim_of_violence                    f\n",
       "victim_of_violence_type             NaN\n",
       "Name: 12, dtype: object"
      ]
     },
     "execution_count": 6,
     "metadata": {},
     "output_type": "execute_result"
    }
   ],
   "source": [
    "requests_train.loc[12,cat_cols]"
   ]
  },
  {
   "cell_type": "code",
   "execution_count": 70,
   "metadata": {},
   "outputs": [
    {
     "data": {
      "text/plain": [
       "dtype('O')"
      ]
     },
     "execution_count": 70,
     "metadata": {},
     "output_type": "execute_result"
    }
   ],
   "source": [
    "requests_train['child_to_come'].dtype"
   ]
  },
  {
   "cell_type": "markdown",
   "metadata": {},
   "source": [
    "## Preprocess"
   ]
  },
  {
   "cell_type": "code",
   "execution_count": 26,
   "metadata": {},
   "outputs": [],
   "source": [
    "individuals_cols = ['pregnancy', 'childcare_center_supervision', 'disabled_worker_certification', 'gender', 'marital_status_id']"
   ]
  },
  {
   "cell_type": "code",
   "execution_count": 27,
   "metadata": {},
   "outputs": [],
   "source": [
    "columns = num_cols + cat_cols + cat_cols_high_freq + individuals_cols"
   ]
  },
  {
   "cell_type": "code",
   "execution_count": 28,
   "metadata": {},
   "outputs": [],
   "source": [
    "#X = requests_train[columns].fillna('xxx')\n",
    "#y = requests_train['granted_number_of_nights']\n",
    "#X = final[columns].fillna('xxx')\n",
    "#y = final['granted_number_of_nights']\n",
    "X = final.loc[:ntrain, columns].fillna('xxx')\n",
    "y = final.loc[:ntrain, 'granted_number_of_nights']"
   ]
  },
  {
   "cell_type": "code",
   "execution_count": 29,
   "metadata": {},
   "outputs": [],
   "source": [
    "X.loc[:, cat_cols + cat_cols_high_freq + individuals_cols] = \\\n",
    "X.loc[:, cat_cols + cat_cols_high_freq + individuals_cols].apply(lambda col: col.astype('category'))"
   ]
  },
  {
   "cell_type": "markdown",
   "metadata": {},
   "source": [
    "# Cross validation"
   ]
  },
  {
   "cell_type": "code",
   "execution_count": 56,
   "metadata": {},
   "outputs": [
    {
     "ename": "ValueError",
     "evalue": "Found input variables with inconsistent numbers of samples: [297740, 301304]",
     "output_type": "error",
     "traceback": [
      "\u001b[1;31m---------------------------------------------------------------------------\u001b[0m",
      "\u001b[1;31mValueError\u001b[0m                                Traceback (most recent call last)",
      "\u001b[1;32m<ipython-input-56-83134cf01592>\u001b[0m in \u001b[0;36m<module>\u001b[1;34m()\u001b[0m\n\u001b[0;32m      1\u001b[0m \u001b[1;31m# split between the train and the validation samples\u001b[0m\u001b[1;33m\u001b[0m\u001b[1;33m\u001b[0m\u001b[0m\n\u001b[1;32m----> 2\u001b[1;33m \u001b[0mX_train\u001b[0m\u001b[1;33m,\u001b[0m \u001b[0mX_val\u001b[0m\u001b[1;33m,\u001b[0m \u001b[0my_train\u001b[0m\u001b[1;33m,\u001b[0m \u001b[0my_val\u001b[0m \u001b[1;33m=\u001b[0m \u001b[0mtrain_test_split\u001b[0m\u001b[1;33m(\u001b[0m\u001b[0mX\u001b[0m\u001b[1;33m,\u001b[0m \u001b[0my\u001b[0m\u001b[1;33m,\u001b[0m \u001b[0mtest_size\u001b[0m\u001b[1;33m=\u001b[0m\u001b[1;36m0.33\u001b[0m\u001b[1;33m,\u001b[0m \u001b[0mrandom_state\u001b[0m\u001b[1;33m=\u001b[0m\u001b[1;36m37\u001b[0m\u001b[1;33m)\u001b[0m\u001b[1;33m\u001b[0m\u001b[0m\n\u001b[0m",
      "\u001b[1;32m~\\AppData\\Local\\Continuum\\anaconda3\\lib\\site-packages\\sklearn\\model_selection\\_split.py\u001b[0m in \u001b[0;36mtrain_test_split\u001b[1;34m(*arrays, **options)\u001b[0m\n\u001b[0;32m   2182\u001b[0m         \u001b[0mtest_size\u001b[0m \u001b[1;33m=\u001b[0m \u001b[1;36m0.25\u001b[0m\u001b[1;33m\u001b[0m\u001b[0m\n\u001b[0;32m   2183\u001b[0m \u001b[1;33m\u001b[0m\u001b[0m\n\u001b[1;32m-> 2184\u001b[1;33m     \u001b[0marrays\u001b[0m \u001b[1;33m=\u001b[0m \u001b[0mindexable\u001b[0m\u001b[1;33m(\u001b[0m\u001b[1;33m*\u001b[0m\u001b[0marrays\u001b[0m\u001b[1;33m)\u001b[0m\u001b[1;33m\u001b[0m\u001b[0m\n\u001b[0m\u001b[0;32m   2185\u001b[0m \u001b[1;33m\u001b[0m\u001b[0m\n\u001b[0;32m   2186\u001b[0m     \u001b[1;32mif\u001b[0m \u001b[0mshuffle\u001b[0m \u001b[1;32mis\u001b[0m \u001b[1;32mFalse\u001b[0m\u001b[1;33m:\u001b[0m\u001b[1;33m\u001b[0m\u001b[0m\n",
      "\u001b[1;32m~\\AppData\\Local\\Continuum\\anaconda3\\lib\\site-packages\\sklearn\\utils\\validation.py\u001b[0m in \u001b[0;36mindexable\u001b[1;34m(*iterables)\u001b[0m\n\u001b[0;32m    258\u001b[0m         \u001b[1;32melse\u001b[0m\u001b[1;33m:\u001b[0m\u001b[1;33m\u001b[0m\u001b[0m\n\u001b[0;32m    259\u001b[0m             \u001b[0mresult\u001b[0m\u001b[1;33m.\u001b[0m\u001b[0mappend\u001b[0m\u001b[1;33m(\u001b[0m\u001b[0mnp\u001b[0m\u001b[1;33m.\u001b[0m\u001b[0marray\u001b[0m\u001b[1;33m(\u001b[0m\u001b[0mX\u001b[0m\u001b[1;33m)\u001b[0m\u001b[1;33m)\u001b[0m\u001b[1;33m\u001b[0m\u001b[0m\n\u001b[1;32m--> 260\u001b[1;33m     \u001b[0mcheck_consistent_length\u001b[0m\u001b[1;33m(\u001b[0m\u001b[1;33m*\u001b[0m\u001b[0mresult\u001b[0m\u001b[1;33m)\u001b[0m\u001b[1;33m\u001b[0m\u001b[0m\n\u001b[0m\u001b[0;32m    261\u001b[0m     \u001b[1;32mreturn\u001b[0m \u001b[0mresult\u001b[0m\u001b[1;33m\u001b[0m\u001b[0m\n\u001b[0;32m    262\u001b[0m \u001b[1;33m\u001b[0m\u001b[0m\n",
      "\u001b[1;32m~\\AppData\\Local\\Continuum\\anaconda3\\lib\\site-packages\\sklearn\\utils\\validation.py\u001b[0m in \u001b[0;36mcheck_consistent_length\u001b[1;34m(*arrays)\u001b[0m\n\u001b[0;32m    233\u001b[0m     \u001b[1;32mif\u001b[0m \u001b[0mlen\u001b[0m\u001b[1;33m(\u001b[0m\u001b[0muniques\u001b[0m\u001b[1;33m)\u001b[0m \u001b[1;33m>\u001b[0m \u001b[1;36m1\u001b[0m\u001b[1;33m:\u001b[0m\u001b[1;33m\u001b[0m\u001b[0m\n\u001b[0;32m    234\u001b[0m         raise ValueError(\"Found input variables with inconsistent numbers of\"\n\u001b[1;32m--> 235\u001b[1;33m                          \" samples: %r\" % [int(l) for l in lengths])\n\u001b[0m\u001b[0;32m    236\u001b[0m \u001b[1;33m\u001b[0m\u001b[0m\n\u001b[0;32m    237\u001b[0m \u001b[1;33m\u001b[0m\u001b[0m\n",
      "\u001b[1;31mValueError\u001b[0m: Found input variables with inconsistent numbers of samples: [297740, 301304]"
     ]
    }
   ],
   "source": [
    "# split between the train and the validation samples\n",
    "X_train, X_val, y_train, y_val = train_test_split(X, y, test_size=0.33, random_state=37)"
   ]
  },
  {
   "cell_type": "markdown",
   "metadata": {},
   "source": [
    "## 4.1. Model: Logistic regression"
   ]
  },
  {
   "cell_type": "code",
   "execution_count": 121,
   "metadata": {},
   "outputs": [],
   "source": [
    "# use logistic regression as first model\n",
    "model = LogisticRegression(solver='liblinear', multi_class='ovr')"
   ]
  },
  {
   "cell_type": "code",
   "execution_count": 9,
   "metadata": {},
   "outputs": [
    {
     "data": {
      "text/plain": [
       "LogisticRegression(C=1.0, class_weight=None, dual=False, fit_intercept=True,\n",
       "          intercept_scaling=1, max_iter=100, multi_class='ovr',\n",
       "          n_jobs=None, penalty='l2', random_state=None, solver='liblinear',\n",
       "          tol=0.0001, verbose=0, warm_start=False)"
      ]
     },
     "execution_count": 9,
     "metadata": {},
     "output_type": "execute_result"
    }
   ],
   "source": [
    "# fit the model\n",
    "model.fit(X_train, y_train)"
   ]
  },
  {
   "cell_type": "code",
   "execution_count": 10,
   "metadata": {},
   "outputs": [
    {
     "data": {
      "text/plain": [
       "2.528223300408609"
      ]
     },
     "execution_count": 10,
     "metadata": {},
     "output_type": "execute_result"
    }
   ],
   "source": [
    "# evaluate the model with the competition scorer (validation set)\n",
    "competition_scorer(y_val, model.predict_proba(X_val))"
   ]
  },
  {
   "cell_type": "markdown",
   "metadata": {},
   "source": [
    "## 4.2. LightGBM"
   ]
  },
  {
   "cell_type": "code",
   "execution_count": 14,
   "metadata": {},
   "outputs": [],
   "source": [
    "from lightgbm import LGBMClassifier"
   ]
  },
  {
   "cell_type": "code",
   "execution_count": 15,
   "metadata": {},
   "outputs": [],
   "source": [
    "lgbm = LGBMClassifier(n_jobs=-1, random_state=2019, class_weight='balanced')"
   ]
  },
  {
   "cell_type": "markdown",
   "metadata": {},
   "source": [
    "Cross val"
   ]
  },
  {
   "cell_type": "code",
   "execution_count": 137,
   "metadata": {},
   "outputs": [],
   "source": [
    "from sklearn.model_selection import GridSearchCV   "
   ]
  },
  {
   "cell_type": "code",
   "execution_count": 138,
   "metadata": {},
   "outputs": [],
   "source": [
    "gridParams = {\n",
    "    #'learning_rate': [0.005],\n",
    "    'n_estimators': [10,20,30, 40, 50, 60, 70, 80,90, 100, 110,120,130,140,150,160,170,180,190, 200],\n",
    "    #'num_leaves': [6,8,12,16],\n",
    "    #'boosting_type' : ['gbdt'],\n",
    "    #'objective' : ['binary'],\n",
    "    #'random_state' : [2019], # Updated from 'seed'\n",
    "    #'colsample_bytree' : [0.65, 0.66],\n",
    "    #'subsample' : [0.7,0.75],\n",
    "    #'reg_alpha' : [1,1.2],\n",
    "    #'reg_lambda' : [1,1.2,1.4],\n",
    "    }\n",
    "#gridParams= {'n_estimators':list(int(10*i) for i in range(0,20))}\n"
   ]
  },
  {
   "cell_type": "code",
   "execution_count": null,
   "metadata": {},
   "outputs": [
    {
     "name": "stdout",
     "output_type": "stream",
     "text": [
      "dict_keys(['boosting_type', 'class_weight', 'colsample_bytree', 'importance_type', 'learning_rate', 'max_depth', 'min_child_samples', 'min_child_weight', 'min_split_gain', 'n_estimators', 'n_jobs', 'num_leaves', 'objective', 'random_state', 'reg_alpha', 'reg_lambda', 'silent', 'subsample', 'subsample_for_bin', 'subsample_freq'])\n"
     ]
    }
   ],
   "source": [
    "# To view the default model params:\n",
    "print(lgbm.get_params().keys())\n",
    "\n",
    "# Create the grid\n",
    "grid = GridSearchCV(lgbm, gridParams,\n",
    "                    verbose=0,\n",
    "                    cv=4,\n",
    "                    n_jobs=-1)\n",
    "# Run the grid\n",
    "grid.fit(X_train, y_train)\n",
    "\n",
    "# Print the best parameters found\n",
    "print(grid.best_params_)\n",
    "print(grid.best_score_)"
   ]
  },
  {
   "cell_type": "code",
   "execution_count": 65,
   "metadata": {},
   "outputs": [
    {
     "data": {
      "text/plain": [
       "LGBMClassifier(boosting_type='gbdt', class_weight='balanced',\n",
       "        colsample_bytree=1.0, importance_type='split', learning_rate=0.1,\n",
       "        max_depth=-1, min_child_samples=20, min_child_weight=0.001,\n",
       "        min_split_gain=0.0, n_estimators=100, n_jobs=-1, num_leaves=31,\n",
       "        objective=None, random_state=2019, reg_alpha=0.0, reg_lambda=0.0,\n",
       "        silent=True, subsample=1.0, subsample_for_bin=200000,\n",
       "        subsample_freq=0)"
      ]
     },
     "execution_count": 65,
     "metadata": {},
     "output_type": "execute_result"
    }
   ],
   "source": [
    "lgbm.fit(X_train, y_train)"
   ]
  },
  {
   "cell_type": "code",
   "execution_count": 29,
   "metadata": {},
   "outputs": [
    {
     "data": {
      "text/plain": [
       "0.5504323089660205"
      ]
     },
     "execution_count": 29,
     "metadata": {},
     "output_type": "execute_result"
    }
   ],
   "source": [
    "competition_scorer(y_val,lgbm.predict_proba(X_val))"
   ]
  },
  {
   "cell_type": "code",
   "execution_count": 30,
   "metadata": {},
   "outputs": [
    {
     "data": {
      "text/plain": [
       "LGBMClassifier(boosting_type='gbdt', class_weight='balanced',\n",
       "        colsample_bytree=1.0, importance_type='split', learning_rate=0.1,\n",
       "        max_depth=-1, min_child_samples=20, min_child_weight=0.001,\n",
       "        min_split_gain=0.0, n_estimators=100, n_jobs=-1, num_leaves=31,\n",
       "        objective=None, random_state=2019, reg_alpha=0.0, reg_lambda=0.0,\n",
       "        silent=True, subsample=1.0, subsample_for_bin=200000,\n",
       "        subsample_freq=0)"
      ]
     },
     "execution_count": 30,
     "metadata": {},
     "output_type": "execute_result"
    }
   ],
   "source": [
    "lgbm.fit(X, y)"
   ]
  },
  {
   "cell_type": "markdown",
   "metadata": {},
   "source": [
    "Predict"
   ]
  },
  {
   "cell_type": "code",
   "execution_count": 31,
   "metadata": {},
   "outputs": [],
   "source": [
    "#X_test = X_test_final[columns]\n",
    "X_test = final.loc[ntrain:, columns]\n",
    "X_test.loc[:, cat_cols + cat_cols_high_freq + individuals_cols] = \\\n",
    "X_test.loc[:, cat_cols + cat_cols_high_freq + individuals_cols].apply(lambda col: col.astype('category'))"
   ]
  },
  {
   "cell_type": "code",
   "execution_count": 32,
   "metadata": {},
   "outputs": [],
   "source": [
    "y_pred = lgbm.predict_proba(X_test)"
   ]
  },
  {
   "cell_type": "code",
   "execution_count": 44,
   "metadata": {},
   "outputs": [
    {
     "data": {
      "text/plain": [
       "301304"
      ]
     },
     "execution_count": 44,
     "metadata": {},
     "output_type": "execute_result"
    }
   ],
   "source": [
    "len(final.loc[ntrain:,'request_id'])"
   ]
  },
  {
   "cell_type": "code",
   "execution_count": 45,
   "metadata": {},
   "outputs": [
    {
     "data": {
      "text/plain": [
       "301304"
      ]
     },
     "execution_count": 45,
     "metadata": {},
     "output_type": "execute_result"
    }
   ],
   "source": [
    "len(y_pred)"
   ]
  },
  {
   "cell_type": "code",
   "execution_count": 46,
   "metadata": {},
   "outputs": [],
   "source": [
    "import pandas as pd"
   ]
  },
  {
   "cell_type": "code",
   "execution_count": 48,
   "metadata": {},
   "outputs": [
    {
     "data": {
      "text/html": [
       "<div>\n",
       "<style scoped>\n",
       "    .dataframe tbody tr th:only-of-type {\n",
       "        vertical-align: middle;\n",
       "    }\n",
       "\n",
       "    .dataframe tbody tr th {\n",
       "        vertical-align: top;\n",
       "    }\n",
       "\n",
       "    .dataframe thead th {\n",
       "        text-align: right;\n",
       "    }\n",
       "</style>\n",
       "<table border=\"1\" class=\"dataframe\">\n",
       "  <thead>\n",
       "    <tr style=\"text-align: right;\">\n",
       "      <th></th>\n",
       "      <th>request_id</th>\n",
       "      <th>0</th>\n",
       "      <th>1</th>\n",
       "      <th>2</th>\n",
       "      <th>3</th>\n",
       "    </tr>\n",
       "  </thead>\n",
       "  <tbody>\n",
       "    <tr>\n",
       "      <th>0</th>\n",
       "      <td>044c3facf1b4fc28bf75282c92f7e4f3</td>\n",
       "      <td>0.011873</td>\n",
       "      <td>0.285465</td>\n",
       "      <td>0.697550</td>\n",
       "      <td>0.005111</td>\n",
       "    </tr>\n",
       "    <tr>\n",
       "      <th>1</th>\n",
       "      <td>11889048b1a063f46ca4421a58e8f4ae</td>\n",
       "      <td>0.158385</td>\n",
       "      <td>0.724068</td>\n",
       "      <td>0.103997</td>\n",
       "      <td>0.013549</td>\n",
       "    </tr>\n",
       "    <tr>\n",
       "      <th>2</th>\n",
       "      <td>202e294bb5ce10984b57053965f53804</td>\n",
       "      <td>0.460291</td>\n",
       "      <td>0.532717</td>\n",
       "      <td>0.003335</td>\n",
       "      <td>0.003657</td>\n",
       "    </tr>\n",
       "    <tr>\n",
       "      <th>3</th>\n",
       "      <td>9471898744f674c7ca28764205ee2f73</td>\n",
       "      <td>0.019659</td>\n",
       "      <td>0.947312</td>\n",
       "      <td>0.032390</td>\n",
       "      <td>0.000640</td>\n",
       "    </tr>\n",
       "    <tr>\n",
       "      <th>4</th>\n",
       "      <td>4b8e24bf8cfabb638ff164ab0ecae525</td>\n",
       "      <td>0.071898</td>\n",
       "      <td>0.903743</td>\n",
       "      <td>0.021108</td>\n",
       "      <td>0.003251</td>\n",
       "    </tr>\n",
       "    <tr>\n",
       "      <th>5</th>\n",
       "      <td>b38c10450cb60ff64a2eb88020526b3e</td>\n",
       "      <td>0.001015</td>\n",
       "      <td>0.996398</td>\n",
       "      <td>0.001089</td>\n",
       "      <td>0.001497</td>\n",
       "    </tr>\n",
       "    <tr>\n",
       "      <th>6</th>\n",
       "      <td>29b706178960cf66079e2d22f69b8d5d</td>\n",
       "      <td>0.009787</td>\n",
       "      <td>0.964315</td>\n",
       "      <td>0.005827</td>\n",
       "      <td>0.020071</td>\n",
       "    </tr>\n",
       "    <tr>\n",
       "      <th>7</th>\n",
       "      <td>29b706178960cf66079e2d22f69b8d5d</td>\n",
       "      <td>0.009787</td>\n",
       "      <td>0.964315</td>\n",
       "      <td>0.005827</td>\n",
       "      <td>0.020071</td>\n",
       "    </tr>\n",
       "    <tr>\n",
       "      <th>8</th>\n",
       "      <td>29b706178960cf66079e2d22f69b8d5d</td>\n",
       "      <td>0.009787</td>\n",
       "      <td>0.964315</td>\n",
       "      <td>0.005827</td>\n",
       "      <td>0.020071</td>\n",
       "    </tr>\n",
       "    <tr>\n",
       "      <th>9</th>\n",
       "      <td>29b706178960cf66079e2d22f69b8d5d</td>\n",
       "      <td>0.009805</td>\n",
       "      <td>0.966023</td>\n",
       "      <td>0.005837</td>\n",
       "      <td>0.018335</td>\n",
       "    </tr>\n",
       "    <tr>\n",
       "      <th>10</th>\n",
       "      <td>29b706178960cf66079e2d22f69b8d5d</td>\n",
       "      <td>0.009787</td>\n",
       "      <td>0.964315</td>\n",
       "      <td>0.005827</td>\n",
       "      <td>0.020071</td>\n",
       "    </tr>\n",
       "    <tr>\n",
       "      <th>11</th>\n",
       "      <td>b7a77f604d265346672556486164af35</td>\n",
       "      <td>0.129050</td>\n",
       "      <td>0.457302</td>\n",
       "      <td>0.392979</td>\n",
       "      <td>0.020669</td>\n",
       "    </tr>\n",
       "    <tr>\n",
       "      <th>12</th>\n",
       "      <td>d87558b135e937a77ca922ed1b42ebcd</td>\n",
       "      <td>0.018390</td>\n",
       "      <td>0.914686</td>\n",
       "      <td>0.066321</td>\n",
       "      <td>0.000603</td>\n",
       "    </tr>\n",
       "    <tr>\n",
       "      <th>13</th>\n",
       "      <td>b2fea8e902848751ef98ea8e37589a33</td>\n",
       "      <td>0.044499</td>\n",
       "      <td>0.611797</td>\n",
       "      <td>0.342444</td>\n",
       "      <td>0.001260</td>\n",
       "    </tr>\n",
       "    <tr>\n",
       "      <th>14</th>\n",
       "      <td>0a010dcb1c18cf276239e1e7638434e9</td>\n",
       "      <td>0.123524</td>\n",
       "      <td>0.531293</td>\n",
       "      <td>0.341996</td>\n",
       "      <td>0.003187</td>\n",
       "    </tr>\n",
       "    <tr>\n",
       "      <th>15</th>\n",
       "      <td>e449377dbcb13e5a2ac711cc1f84b842</td>\n",
       "      <td>0.199845</td>\n",
       "      <td>0.532410</td>\n",
       "      <td>0.262421</td>\n",
       "      <td>0.005324</td>\n",
       "    </tr>\n",
       "    <tr>\n",
       "      <th>16</th>\n",
       "      <td>4ce65f2e57ad5c0c75017258ecf51afb</td>\n",
       "      <td>0.001043</td>\n",
       "      <td>0.996587</td>\n",
       "      <td>0.001090</td>\n",
       "      <td>0.001281</td>\n",
       "    </tr>\n",
       "    <tr>\n",
       "      <th>17</th>\n",
       "      <td>38ec1593a3faf6d35e7f4090b78063cb</td>\n",
       "      <td>0.034629</td>\n",
       "      <td>0.943071</td>\n",
       "      <td>0.021976</td>\n",
       "      <td>0.000324</td>\n",
       "    </tr>\n",
       "    <tr>\n",
       "      <th>18</th>\n",
       "      <td>7554619a0d4263eae4d2e02bb6dd1362</td>\n",
       "      <td>0.155635</td>\n",
       "      <td>0.660556</td>\n",
       "      <td>0.182031</td>\n",
       "      <td>0.001778</td>\n",
       "    </tr>\n",
       "    <tr>\n",
       "      <th>19</th>\n",
       "      <td>e9f41e015e8c7772841e620192303e8e</td>\n",
       "      <td>0.997073</td>\n",
       "      <td>0.000454</td>\n",
       "      <td>0.000730</td>\n",
       "      <td>0.001743</td>\n",
       "    </tr>\n",
       "    <tr>\n",
       "      <th>20</th>\n",
       "      <td>e9f41e015e8c7772841e620192303e8e</td>\n",
       "      <td>0.997071</td>\n",
       "      <td>0.000454</td>\n",
       "      <td>0.000731</td>\n",
       "      <td>0.001743</td>\n",
       "    </tr>\n",
       "    <tr>\n",
       "      <th>21</th>\n",
       "      <td>9501661b078a44d63e961e0333cdc6b4</td>\n",
       "      <td>0.974846</td>\n",
       "      <td>0.014238</td>\n",
       "      <td>0.005043</td>\n",
       "      <td>0.005874</td>\n",
       "    </tr>\n",
       "    <tr>\n",
       "      <th>22</th>\n",
       "      <td>9501661b078a44d63e961e0333cdc6b4</td>\n",
       "      <td>0.974846</td>\n",
       "      <td>0.014238</td>\n",
       "      <td>0.005043</td>\n",
       "      <td>0.005874</td>\n",
       "    </tr>\n",
       "    <tr>\n",
       "      <th>23</th>\n",
       "      <td>9501661b078a44d63e961e0333cdc6b4</td>\n",
       "      <td>0.972606</td>\n",
       "      <td>0.014205</td>\n",
       "      <td>0.005031</td>\n",
       "      <td>0.008158</td>\n",
       "    </tr>\n",
       "    <tr>\n",
       "      <th>24</th>\n",
       "      <td>771ff9825b6157d851a82421ff4c4f68</td>\n",
       "      <td>0.996128</td>\n",
       "      <td>0.000709</td>\n",
       "      <td>0.001480</td>\n",
       "      <td>0.001684</td>\n",
       "    </tr>\n",
       "    <tr>\n",
       "      <th>25</th>\n",
       "      <td>f25b7a27126f1eef8d8cc6abf810bb3e</td>\n",
       "      <td>0.112550</td>\n",
       "      <td>0.632865</td>\n",
       "      <td>0.056030</td>\n",
       "      <td>0.198556</td>\n",
       "    </tr>\n",
       "    <tr>\n",
       "      <th>26</th>\n",
       "      <td>f24406c747572d665f3ad2cb91575e01</td>\n",
       "      <td>0.026149</td>\n",
       "      <td>0.044950</td>\n",
       "      <td>0.908783</td>\n",
       "      <td>0.020118</td>\n",
       "    </tr>\n",
       "    <tr>\n",
       "      <th>27</th>\n",
       "      <td>f24406c747572d665f3ad2cb91575e01</td>\n",
       "      <td>0.026200</td>\n",
       "      <td>0.045036</td>\n",
       "      <td>0.908607</td>\n",
       "      <td>0.020157</td>\n",
       "    </tr>\n",
       "    <tr>\n",
       "      <th>28</th>\n",
       "      <td>5469efa0c8de35bec7c4fbb42140e854</td>\n",
       "      <td>0.108517</td>\n",
       "      <td>0.077127</td>\n",
       "      <td>0.493307</td>\n",
       "      <td>0.321049</td>\n",
       "    </tr>\n",
       "    <tr>\n",
       "      <th>29</th>\n",
       "      <td>acb2f97d07fb14cc15e1d464d4e89791</td>\n",
       "      <td>0.087117</td>\n",
       "      <td>0.067289</td>\n",
       "      <td>0.489800</td>\n",
       "      <td>0.355794</td>\n",
       "    </tr>\n",
       "    <tr>\n",
       "      <th>...</th>\n",
       "      <td>...</td>\n",
       "      <td>...</td>\n",
       "      <td>...</td>\n",
       "      <td>...</td>\n",
       "      <td>...</td>\n",
       "    </tr>\n",
       "    <tr>\n",
       "      <th>301274</th>\n",
       "      <td>1443fcdb5a7da95b8863532116db67d3</td>\n",
       "      <td>0.458693</td>\n",
       "      <td>0.144361</td>\n",
       "      <td>0.145952</td>\n",
       "      <td>0.250993</td>\n",
       "    </tr>\n",
       "    <tr>\n",
       "      <th>301275</th>\n",
       "      <td>1443fcdb5a7da95b8863532116db67d3</td>\n",
       "      <td>0.458722</td>\n",
       "      <td>0.144371</td>\n",
       "      <td>0.145652</td>\n",
       "      <td>0.251255</td>\n",
       "    </tr>\n",
       "    <tr>\n",
       "      <th>301276</th>\n",
       "      <td>eb83171b8a430d42274830db49dcc83d</td>\n",
       "      <td>0.120190</td>\n",
       "      <td>0.709794</td>\n",
       "      <td>0.168434</td>\n",
       "      <td>0.001582</td>\n",
       "    </tr>\n",
       "    <tr>\n",
       "      <th>301277</th>\n",
       "      <td>ea5e06bb7159f5d408410050d9e8a4bc</td>\n",
       "      <td>0.533531</td>\n",
       "      <td>0.153548</td>\n",
       "      <td>0.311048</td>\n",
       "      <td>0.001872</td>\n",
       "    </tr>\n",
       "    <tr>\n",
       "      <th>301278</th>\n",
       "      <td>416407f6e5430ff8d4af100e1ee0d939</td>\n",
       "      <td>0.103378</td>\n",
       "      <td>0.210234</td>\n",
       "      <td>0.513832</td>\n",
       "      <td>0.172556</td>\n",
       "    </tr>\n",
       "    <tr>\n",
       "      <th>301279</th>\n",
       "      <td>5ba1662310b9df522c6f59070a28e296</td>\n",
       "      <td>0.149380</td>\n",
       "      <td>0.256608</td>\n",
       "      <td>0.194685</td>\n",
       "      <td>0.399327</td>\n",
       "    </tr>\n",
       "    <tr>\n",
       "      <th>301280</th>\n",
       "      <td>2000079b0bb4d39db2600b4d052f74f4</td>\n",
       "      <td>0.256688</td>\n",
       "      <td>0.423037</td>\n",
       "      <td>0.110134</td>\n",
       "      <td>0.210140</td>\n",
       "    </tr>\n",
       "    <tr>\n",
       "      <th>301281</th>\n",
       "      <td>a21917dd3013f8aec4ee0eeb3e54dd87</td>\n",
       "      <td>0.299941</td>\n",
       "      <td>0.546474</td>\n",
       "      <td>0.148274</td>\n",
       "      <td>0.005311</td>\n",
       "    </tr>\n",
       "    <tr>\n",
       "      <th>301282</th>\n",
       "      <td>a2a9f6df2d433fdb5db79ab541f1b4ef</td>\n",
       "      <td>0.066026</td>\n",
       "      <td>0.146373</td>\n",
       "      <td>0.623484</td>\n",
       "      <td>0.164118</td>\n",
       "    </tr>\n",
       "    <tr>\n",
       "      <th>301283</th>\n",
       "      <td>9db7344e31e10ce7c280e0d49bbce3d0</td>\n",
       "      <td>0.071319</td>\n",
       "      <td>0.811450</td>\n",
       "      <td>0.090483</td>\n",
       "      <td>0.026748</td>\n",
       "    </tr>\n",
       "    <tr>\n",
       "      <th>301284</th>\n",
       "      <td>295fc85f4fecf1dff9243e4888425963</td>\n",
       "      <td>0.192847</td>\n",
       "      <td>0.702090</td>\n",
       "      <td>0.013351</td>\n",
       "      <td>0.091711</td>\n",
       "    </tr>\n",
       "    <tr>\n",
       "      <th>301285</th>\n",
       "      <td>94d3c4b6f011bb313196130f6589b0f9</td>\n",
       "      <td>0.173822</td>\n",
       "      <td>0.086459</td>\n",
       "      <td>0.552994</td>\n",
       "      <td>0.186725</td>\n",
       "    </tr>\n",
       "    <tr>\n",
       "      <th>301286</th>\n",
       "      <td>41d1b34c9fb949e3b39de23f9d516805</td>\n",
       "      <td>0.131380</td>\n",
       "      <td>0.079899</td>\n",
       "      <td>0.562924</td>\n",
       "      <td>0.225797</td>\n",
       "    </tr>\n",
       "    <tr>\n",
       "      <th>301287</th>\n",
       "      <td>86022afca7c2efb2d8ba518ac5115fa8</td>\n",
       "      <td>0.193778</td>\n",
       "      <td>0.765558</td>\n",
       "      <td>0.039495</td>\n",
       "      <td>0.001169</td>\n",
       "    </tr>\n",
       "    <tr>\n",
       "      <th>301288</th>\n",
       "      <td>ce5edff77cf3d8c79ca22ed54d787450</td>\n",
       "      <td>0.280026</td>\n",
       "      <td>0.595331</td>\n",
       "      <td>0.055650</td>\n",
       "      <td>0.068993</td>\n",
       "    </tr>\n",
       "    <tr>\n",
       "      <th>301289</th>\n",
       "      <td>f06046344fb3a7aa72ff9500a814ba33</td>\n",
       "      <td>0.005788</td>\n",
       "      <td>0.069709</td>\n",
       "      <td>0.622991</td>\n",
       "      <td>0.301512</td>\n",
       "    </tr>\n",
       "    <tr>\n",
       "      <th>301290</th>\n",
       "      <td>f06046344fb3a7aa72ff9500a814ba33</td>\n",
       "      <td>0.005927</td>\n",
       "      <td>0.071393</td>\n",
       "      <td>0.638036</td>\n",
       "      <td>0.284643</td>\n",
       "    </tr>\n",
       "    <tr>\n",
       "      <th>301291</th>\n",
       "      <td>d48fba61a7bc6cb2a33093e28258cf60</td>\n",
       "      <td>0.038045</td>\n",
       "      <td>0.077284</td>\n",
       "      <td>0.874607</td>\n",
       "      <td>0.010064</td>\n",
       "    </tr>\n",
       "    <tr>\n",
       "      <th>301292</th>\n",
       "      <td>715ef33065ff5e9bf3fa6403db6c4471</td>\n",
       "      <td>0.801199</td>\n",
       "      <td>0.154530</td>\n",
       "      <td>0.034691</td>\n",
       "      <td>0.009580</td>\n",
       "    </tr>\n",
       "    <tr>\n",
       "      <th>301293</th>\n",
       "      <td>97f3e830bb6433ae6441577a6c271428</td>\n",
       "      <td>0.137451</td>\n",
       "      <td>0.242592</td>\n",
       "      <td>0.173864</td>\n",
       "      <td>0.446092</td>\n",
       "    </tr>\n",
       "    <tr>\n",
       "      <th>301294</th>\n",
       "      <td>b12e1f31d8e5c513cd0db6d6b5220d57</td>\n",
       "      <td>0.255747</td>\n",
       "      <td>0.189223</td>\n",
       "      <td>0.487777</td>\n",
       "      <td>0.067254</td>\n",
       "    </tr>\n",
       "    <tr>\n",
       "      <th>301295</th>\n",
       "      <td>787199cac407d78695e06f6e4fec28b9</td>\n",
       "      <td>0.051436</td>\n",
       "      <td>0.798973</td>\n",
       "      <td>0.148034</td>\n",
       "      <td>0.001557</td>\n",
       "    </tr>\n",
       "    <tr>\n",
       "      <th>301296</th>\n",
       "      <td>3bf11819c00669521bc2614fe4792bff</td>\n",
       "      <td>0.036357</td>\n",
       "      <td>0.957032</td>\n",
       "      <td>0.002692</td>\n",
       "      <td>0.003919</td>\n",
       "    </tr>\n",
       "    <tr>\n",
       "      <th>301297</th>\n",
       "      <td>5e85134e1b8894d8e6f59d994e1ea985</td>\n",
       "      <td>0.052415</td>\n",
       "      <td>0.304920</td>\n",
       "      <td>0.639074</td>\n",
       "      <td>0.003592</td>\n",
       "    </tr>\n",
       "    <tr>\n",
       "      <th>301298</th>\n",
       "      <td>66639f4e004f75652f49c23f37ce162c</td>\n",
       "      <td>0.082770</td>\n",
       "      <td>0.138042</td>\n",
       "      <td>0.623189</td>\n",
       "      <td>0.155999</td>\n",
       "    </tr>\n",
       "    <tr>\n",
       "      <th>301299</th>\n",
       "      <td>8d897db5a6cb9c8ea890a8fca87571d6</td>\n",
       "      <td>0.495873</td>\n",
       "      <td>0.497505</td>\n",
       "      <td>0.003158</td>\n",
       "      <td>0.003464</td>\n",
       "    </tr>\n",
       "    <tr>\n",
       "      <th>301300</th>\n",
       "      <td>bc2388985546836afc595a5261bfd057</td>\n",
       "      <td>0.029197</td>\n",
       "      <td>0.631633</td>\n",
       "      <td>0.237134</td>\n",
       "      <td>0.102037</td>\n",
       "    </tr>\n",
       "    <tr>\n",
       "      <th>301301</th>\n",
       "      <td>316e7001192d30054bf4522035515185</td>\n",
       "      <td>0.959262</td>\n",
       "      <td>0.009836</td>\n",
       "      <td>0.022826</td>\n",
       "      <td>0.008075</td>\n",
       "    </tr>\n",
       "    <tr>\n",
       "      <th>301302</th>\n",
       "      <td>316e7001192d30054bf4522035515185</td>\n",
       "      <td>0.960242</td>\n",
       "      <td>0.009846</td>\n",
       "      <td>0.021671</td>\n",
       "      <td>0.008241</td>\n",
       "    </tr>\n",
       "    <tr>\n",
       "      <th>301303</th>\n",
       "      <td>316e7001192d30054bf4522035515185</td>\n",
       "      <td>0.958476</td>\n",
       "      <td>0.009828</td>\n",
       "      <td>0.023470</td>\n",
       "      <td>0.008225</td>\n",
       "    </tr>\n",
       "  </tbody>\n",
       "</table>\n",
       "<p>301304 rows × 5 columns</p>\n",
       "</div>"
      ],
      "text/plain": [
       "                              request_id         0         1         2  \\\n",
       "0       044c3facf1b4fc28bf75282c92f7e4f3  0.011873  0.285465  0.697550   \n",
       "1       11889048b1a063f46ca4421a58e8f4ae  0.158385  0.724068  0.103997   \n",
       "2       202e294bb5ce10984b57053965f53804  0.460291  0.532717  0.003335   \n",
       "3       9471898744f674c7ca28764205ee2f73  0.019659  0.947312  0.032390   \n",
       "4       4b8e24bf8cfabb638ff164ab0ecae525  0.071898  0.903743  0.021108   \n",
       "5       b38c10450cb60ff64a2eb88020526b3e  0.001015  0.996398  0.001089   \n",
       "6       29b706178960cf66079e2d22f69b8d5d  0.009787  0.964315  0.005827   \n",
       "7       29b706178960cf66079e2d22f69b8d5d  0.009787  0.964315  0.005827   \n",
       "8       29b706178960cf66079e2d22f69b8d5d  0.009787  0.964315  0.005827   \n",
       "9       29b706178960cf66079e2d22f69b8d5d  0.009805  0.966023  0.005837   \n",
       "10      29b706178960cf66079e2d22f69b8d5d  0.009787  0.964315  0.005827   \n",
       "11      b7a77f604d265346672556486164af35  0.129050  0.457302  0.392979   \n",
       "12      d87558b135e937a77ca922ed1b42ebcd  0.018390  0.914686  0.066321   \n",
       "13      b2fea8e902848751ef98ea8e37589a33  0.044499  0.611797  0.342444   \n",
       "14      0a010dcb1c18cf276239e1e7638434e9  0.123524  0.531293  0.341996   \n",
       "15      e449377dbcb13e5a2ac711cc1f84b842  0.199845  0.532410  0.262421   \n",
       "16      4ce65f2e57ad5c0c75017258ecf51afb  0.001043  0.996587  0.001090   \n",
       "17      38ec1593a3faf6d35e7f4090b78063cb  0.034629  0.943071  0.021976   \n",
       "18      7554619a0d4263eae4d2e02bb6dd1362  0.155635  0.660556  0.182031   \n",
       "19      e9f41e015e8c7772841e620192303e8e  0.997073  0.000454  0.000730   \n",
       "20      e9f41e015e8c7772841e620192303e8e  0.997071  0.000454  0.000731   \n",
       "21      9501661b078a44d63e961e0333cdc6b4  0.974846  0.014238  0.005043   \n",
       "22      9501661b078a44d63e961e0333cdc6b4  0.974846  0.014238  0.005043   \n",
       "23      9501661b078a44d63e961e0333cdc6b4  0.972606  0.014205  0.005031   \n",
       "24      771ff9825b6157d851a82421ff4c4f68  0.996128  0.000709  0.001480   \n",
       "25      f25b7a27126f1eef8d8cc6abf810bb3e  0.112550  0.632865  0.056030   \n",
       "26      f24406c747572d665f3ad2cb91575e01  0.026149  0.044950  0.908783   \n",
       "27      f24406c747572d665f3ad2cb91575e01  0.026200  0.045036  0.908607   \n",
       "28      5469efa0c8de35bec7c4fbb42140e854  0.108517  0.077127  0.493307   \n",
       "29      acb2f97d07fb14cc15e1d464d4e89791  0.087117  0.067289  0.489800   \n",
       "...                                  ...       ...       ...       ...   \n",
       "301274  1443fcdb5a7da95b8863532116db67d3  0.458693  0.144361  0.145952   \n",
       "301275  1443fcdb5a7da95b8863532116db67d3  0.458722  0.144371  0.145652   \n",
       "301276  eb83171b8a430d42274830db49dcc83d  0.120190  0.709794  0.168434   \n",
       "301277  ea5e06bb7159f5d408410050d9e8a4bc  0.533531  0.153548  0.311048   \n",
       "301278  416407f6e5430ff8d4af100e1ee0d939  0.103378  0.210234  0.513832   \n",
       "301279  5ba1662310b9df522c6f59070a28e296  0.149380  0.256608  0.194685   \n",
       "301280  2000079b0bb4d39db2600b4d052f74f4  0.256688  0.423037  0.110134   \n",
       "301281  a21917dd3013f8aec4ee0eeb3e54dd87  0.299941  0.546474  0.148274   \n",
       "301282  a2a9f6df2d433fdb5db79ab541f1b4ef  0.066026  0.146373  0.623484   \n",
       "301283  9db7344e31e10ce7c280e0d49bbce3d0  0.071319  0.811450  0.090483   \n",
       "301284  295fc85f4fecf1dff9243e4888425963  0.192847  0.702090  0.013351   \n",
       "301285  94d3c4b6f011bb313196130f6589b0f9  0.173822  0.086459  0.552994   \n",
       "301286  41d1b34c9fb949e3b39de23f9d516805  0.131380  0.079899  0.562924   \n",
       "301287  86022afca7c2efb2d8ba518ac5115fa8  0.193778  0.765558  0.039495   \n",
       "301288  ce5edff77cf3d8c79ca22ed54d787450  0.280026  0.595331  0.055650   \n",
       "301289  f06046344fb3a7aa72ff9500a814ba33  0.005788  0.069709  0.622991   \n",
       "301290  f06046344fb3a7aa72ff9500a814ba33  0.005927  0.071393  0.638036   \n",
       "301291  d48fba61a7bc6cb2a33093e28258cf60  0.038045  0.077284  0.874607   \n",
       "301292  715ef33065ff5e9bf3fa6403db6c4471  0.801199  0.154530  0.034691   \n",
       "301293  97f3e830bb6433ae6441577a6c271428  0.137451  0.242592  0.173864   \n",
       "301294  b12e1f31d8e5c513cd0db6d6b5220d57  0.255747  0.189223  0.487777   \n",
       "301295  787199cac407d78695e06f6e4fec28b9  0.051436  0.798973  0.148034   \n",
       "301296  3bf11819c00669521bc2614fe4792bff  0.036357  0.957032  0.002692   \n",
       "301297  5e85134e1b8894d8e6f59d994e1ea985  0.052415  0.304920  0.639074   \n",
       "301298  66639f4e004f75652f49c23f37ce162c  0.082770  0.138042  0.623189   \n",
       "301299  8d897db5a6cb9c8ea890a8fca87571d6  0.495873  0.497505  0.003158   \n",
       "301300  bc2388985546836afc595a5261bfd057  0.029197  0.631633  0.237134   \n",
       "301301  316e7001192d30054bf4522035515185  0.959262  0.009836  0.022826   \n",
       "301302  316e7001192d30054bf4522035515185  0.960242  0.009846  0.021671   \n",
       "301303  316e7001192d30054bf4522035515185  0.958476  0.009828  0.023470   \n",
       "\n",
       "               3  \n",
       "0       0.005111  \n",
       "1       0.013549  \n",
       "2       0.003657  \n",
       "3       0.000640  \n",
       "4       0.003251  \n",
       "5       0.001497  \n",
       "6       0.020071  \n",
       "7       0.020071  \n",
       "8       0.020071  \n",
       "9       0.018335  \n",
       "10      0.020071  \n",
       "11      0.020669  \n",
       "12      0.000603  \n",
       "13      0.001260  \n",
       "14      0.003187  \n",
       "15      0.005324  \n",
       "16      0.001281  \n",
       "17      0.000324  \n",
       "18      0.001778  \n",
       "19      0.001743  \n",
       "20      0.001743  \n",
       "21      0.005874  \n",
       "22      0.005874  \n",
       "23      0.008158  \n",
       "24      0.001684  \n",
       "25      0.198556  \n",
       "26      0.020118  \n",
       "27      0.020157  \n",
       "28      0.321049  \n",
       "29      0.355794  \n",
       "...          ...  \n",
       "301274  0.250993  \n",
       "301275  0.251255  \n",
       "301276  0.001582  \n",
       "301277  0.001872  \n",
       "301278  0.172556  \n",
       "301279  0.399327  \n",
       "301280  0.210140  \n",
       "301281  0.005311  \n",
       "301282  0.164118  \n",
       "301283  0.026748  \n",
       "301284  0.091711  \n",
       "301285  0.186725  \n",
       "301286  0.225797  \n",
       "301287  0.001169  \n",
       "301288  0.068993  \n",
       "301289  0.301512  \n",
       "301290  0.284643  \n",
       "301291  0.010064  \n",
       "301292  0.009580  \n",
       "301293  0.446092  \n",
       "301294  0.067254  \n",
       "301295  0.001557  \n",
       "301296  0.003919  \n",
       "301297  0.003592  \n",
       "301298  0.155999  \n",
       "301299  0.003464  \n",
       "301300  0.102037  \n",
       "301301  0.008075  \n",
       "301302  0.008241  \n",
       "301303  0.008225  \n",
       "\n",
       "[301304 rows x 5 columns]"
      ]
     },
     "execution_count": 48,
     "metadata": {},
     "output_type": "execute_result"
    }
   ],
   "source": [
    "pd.concat([final.loc[ntrain:,'request_id'].reset_index(drop=True), pd.DataFrame(y_pred).reset_index(drop=True)], axis=1)"
   ]
  },
  {
   "cell_type": "code",
   "execution_count": 49,
   "metadata": {},
   "outputs": [],
   "source": [
    "predictions = pd.concat([final.loc[ntrain:,'request_id'].reset_index(drop=True), pd.DataFrame(y_pred).reset_index(drop=True)], axis=1)"
   ]
  },
  {
   "cell_type": "code",
   "execution_count": 50,
   "metadata": {},
   "outputs": [
    {
     "data": {
      "text/html": [
       "<div>\n",
       "<style scoped>\n",
       "    .dataframe tbody tr th:only-of-type {\n",
       "        vertical-align: middle;\n",
       "    }\n",
       "\n",
       "    .dataframe tbody tr th {\n",
       "        vertical-align: top;\n",
       "    }\n",
       "\n",
       "    .dataframe thead th {\n",
       "        text-align: right;\n",
       "    }\n",
       "</style>\n",
       "<table border=\"1\" class=\"dataframe\">\n",
       "  <thead>\n",
       "    <tr style=\"text-align: right;\">\n",
       "      <th></th>\n",
       "      <th>request_id</th>\n",
       "      <th>0</th>\n",
       "      <th>1</th>\n",
       "      <th>2</th>\n",
       "      <th>3</th>\n",
       "    </tr>\n",
       "  </thead>\n",
       "  <tbody>\n",
       "    <tr>\n",
       "      <th>0</th>\n",
       "      <td>044c3facf1b4fc28bf75282c92f7e4f3</td>\n",
       "      <td>0.011873</td>\n",
       "      <td>0.285465</td>\n",
       "      <td>0.697550</td>\n",
       "      <td>0.005111</td>\n",
       "    </tr>\n",
       "    <tr>\n",
       "      <th>1</th>\n",
       "      <td>11889048b1a063f46ca4421a58e8f4ae</td>\n",
       "      <td>0.158385</td>\n",
       "      <td>0.724068</td>\n",
       "      <td>0.103997</td>\n",
       "      <td>0.013549</td>\n",
       "    </tr>\n",
       "    <tr>\n",
       "      <th>2</th>\n",
       "      <td>202e294bb5ce10984b57053965f53804</td>\n",
       "      <td>0.460291</td>\n",
       "      <td>0.532717</td>\n",
       "      <td>0.003335</td>\n",
       "      <td>0.003657</td>\n",
       "    </tr>\n",
       "    <tr>\n",
       "      <th>3</th>\n",
       "      <td>9471898744f674c7ca28764205ee2f73</td>\n",
       "      <td>0.019659</td>\n",
       "      <td>0.947312</td>\n",
       "      <td>0.032390</td>\n",
       "      <td>0.000640</td>\n",
       "    </tr>\n",
       "    <tr>\n",
       "      <th>4</th>\n",
       "      <td>4b8e24bf8cfabb638ff164ab0ecae525</td>\n",
       "      <td>0.071898</td>\n",
       "      <td>0.903743</td>\n",
       "      <td>0.021108</td>\n",
       "      <td>0.003251</td>\n",
       "    </tr>\n",
       "  </tbody>\n",
       "</table>\n",
       "</div>"
      ],
      "text/plain": [
       "                         request_id         0         1         2         3\n",
       "0  044c3facf1b4fc28bf75282c92f7e4f3  0.011873  0.285465  0.697550  0.005111\n",
       "1  11889048b1a063f46ca4421a58e8f4ae  0.158385  0.724068  0.103997  0.013549\n",
       "2  202e294bb5ce10984b57053965f53804  0.460291  0.532717  0.003335  0.003657\n",
       "3  9471898744f674c7ca28764205ee2f73  0.019659  0.947312  0.032390  0.000640\n",
       "4  4b8e24bf8cfabb638ff164ab0ecae525  0.071898  0.903743  0.021108  0.003251"
      ]
     },
     "execution_count": 50,
     "metadata": {},
     "output_type": "execute_result"
    }
   ],
   "source": [
    "predictions.head()"
   ]
  },
  {
   "cell_type": "markdown",
   "metadata": {},
   "source": [
    "# 5- Compute predictions on the test set "
   ]
  },
  {
   "cell_type": "code",
   "execution_count": 11,
   "metadata": {},
   "outputs": [],
   "source": [
    "# use the model to predict on the test set\n",
    "X_test = requests_test[columns]\n",
    "y_pred = model.predict_proba(X_test)"
   ]
  },
  {
   "cell_type": "code",
   "execution_count": 12,
   "metadata": {},
   "outputs": [
    {
     "data": {
      "text/plain": [
       "array([[0.22960076, 0.50023437, 0.24644989, 0.02371499],\n",
       "       [0.70313075, 0.20287465, 0.08815599, 0.00583861],\n",
       "       [0.23010885, 0.47292815, 0.27021553, 0.02674747],\n",
       "       [0.69742411, 0.16724207, 0.12698437, 0.00834945]])"
      ]
     },
     "execution_count": 12,
     "metadata": {},
     "output_type": "execute_result"
    }
   ],
   "source": [
    "# overview of prediction probabilities for first four rows\n",
    "y_pred[:4]"
   ]
  },
  {
   "cell_type": "code",
   "execution_count": 13,
   "metadata": {},
   "outputs": [],
   "source": [
    "predictions = pd.concat([requests_test['request_id'], pd.DataFrame(y_pred)], axis=1)"
   ]
  },
  {
   "cell_type": "code",
   "execution_count": 37,
   "metadata": {},
   "outputs": [
    {
     "data": {
      "text/html": [
       "<div>\n",
       "<style scoped>\n",
       "    .dataframe tbody tr th:only-of-type {\n",
       "        vertical-align: middle;\n",
       "    }\n",
       "\n",
       "    .dataframe tbody tr th {\n",
       "        vertical-align: top;\n",
       "    }\n",
       "\n",
       "    .dataframe thead th {\n",
       "        text-align: right;\n",
       "    }\n",
       "</style>\n",
       "<table border=\"1\" class=\"dataframe\">\n",
       "  <thead>\n",
       "    <tr style=\"text-align: right;\">\n",
       "      <th></th>\n",
       "      <th>request_id</th>\n",
       "      <th>0</th>\n",
       "      <th>1</th>\n",
       "      <th>2</th>\n",
       "      <th>3</th>\n",
       "    </tr>\n",
       "  </thead>\n",
       "  <tbody>\n",
       "    <tr>\n",
       "      <th>0</th>\n",
       "      <td>NaN</td>\n",
       "      <td>0.011873</td>\n",
       "      <td>0.285465</td>\n",
       "      <td>0.697550</td>\n",
       "      <td>0.005111</td>\n",
       "    </tr>\n",
       "    <tr>\n",
       "      <th>1</th>\n",
       "      <td>NaN</td>\n",
       "      <td>0.158385</td>\n",
       "      <td>0.724068</td>\n",
       "      <td>0.103997</td>\n",
       "      <td>0.013549</td>\n",
       "    </tr>\n",
       "    <tr>\n",
       "      <th>2</th>\n",
       "      <td>NaN</td>\n",
       "      <td>0.460291</td>\n",
       "      <td>0.532717</td>\n",
       "      <td>0.003335</td>\n",
       "      <td>0.003657</td>\n",
       "    </tr>\n",
       "    <tr>\n",
       "      <th>3</th>\n",
       "      <td>NaN</td>\n",
       "      <td>0.019659</td>\n",
       "      <td>0.947312</td>\n",
       "      <td>0.032390</td>\n",
       "      <td>0.000640</td>\n",
       "    </tr>\n",
       "    <tr>\n",
       "      <th>4</th>\n",
       "      <td>NaN</td>\n",
       "      <td>0.071898</td>\n",
       "      <td>0.903743</td>\n",
       "      <td>0.021108</td>\n",
       "      <td>0.003251</td>\n",
       "    </tr>\n",
       "  </tbody>\n",
       "</table>\n",
       "</div>"
      ],
      "text/plain": [
       "  request_id         0         1         2         3\n",
       "0        NaN  0.011873  0.285465  0.697550  0.005111\n",
       "1        NaN  0.158385  0.724068  0.103997  0.013549\n",
       "2        NaN  0.460291  0.532717  0.003335  0.003657\n",
       "3        NaN  0.019659  0.947312  0.032390  0.000640\n",
       "4        NaN  0.071898  0.903743  0.021108  0.003251"
      ]
     },
     "execution_count": 37,
     "metadata": {},
     "output_type": "execute_result"
    }
   ],
   "source": [
    "predictions.head()"
   ]
  },
  {
   "cell_type": "markdown",
   "metadata": {},
   "source": [
    "# 6- Submit your predictions to the QScore platform"
   ]
  },
  {
   "cell_type": "code",
   "execution_count": 51,
   "metadata": {},
   "outputs": [],
   "source": [
    "import io, math, requests\n",
    "\n",
    "# Get your token from qscore:\n",
    "# 1. Go to https://qscore.datascience-olympics.com/\n",
    "# 2. Chose the competition Data Science Olympics 2019\n",
    "# 3. In the left menu click 'Submissions'\n",
    "# 4. Your token is in the 'Submit from your Python Notebook' tab\n",
    "\n",
    "def submit_prediction(df, sep=',', comment='', compression='gzip', **kwargs):\n",
    "    TOKEN = 'f1f124332514ab749d3c55454c005e516e0c806c6e2848fecc54d5cabe7b2402a7dfcd86d68b86d4e349294e78ef86aab724c1975a82f3c8996cc9697c13f787'\n",
    "    URL='https://qscore.datascience-olympics.com/api/submissions'\n",
    "    df.to_csv('temporary.dat', sep=sep, compression=compression, **kwargs)\n",
    "    r = requests.post(URL, headers={'Authorization': 'Bearer {}'.format(TOKEN)},files={'datafile': open('temporary.dat', 'rb')},data={'comment':comment, 'compression': compression})\n",
    "    if r.status_code == 429:\n",
    "        raise Exception('Submissions are too close. Next submission is only allowed in {} seconds.'.format(int(math.ceil(int(r.headers['x-rate-limit-remaining']) / 1000.0))))\n",
    "    if r.status_code != 200:\n",
    "        raise Exception(r.text)"
   ]
  },
  {
   "cell_type": "code",
   "execution_count": 52,
   "metadata": {},
   "outputs": [],
   "source": [
    "submit_prediction(predictions, sep=',', index=False, comment='my submission')"
   ]
  },
  {
   "cell_type": "code",
   "execution_count": null,
   "metadata": {},
   "outputs": [],
   "source": []
  }
 ],
 "metadata": {
  "kernelspec": {
   "display_name": "Python 3",
   "language": "python",
   "name": "python3"
  },
  "language_info": {
   "codemirror_mode": {
    "name": "ipython",
    "version": 3
   },
   "file_extension": ".py",
   "mimetype": "text/x-python",
   "name": "python",
   "nbconvert_exporter": "python",
   "pygments_lexer": "ipython3",
   "version": "3.7.0"
  }
 },
 "nbformat": 4,
 "nbformat_minor": 2
}
